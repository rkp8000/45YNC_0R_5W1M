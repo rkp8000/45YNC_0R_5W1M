{
 "cells": [
  {
   "cell_type": "markdown",
   "id": "825522d3-f7db-45d1-87c4-305d64668c72",
   "metadata": {},
   "source": [
    "# Central fixed point stability"
   ]
  },
  {
   "cell_type": "markdown",
   "id": "066c663e-3ab1-41d9-9177-6c79a7d5fd98",
   "metadata": {},
   "source": [
    "$$\\lambda^* = \\frac{R}{R-1} \\bigg[ A\\Lambda_2 \\left(R, \\frac{\\mu_0 - \\mu_1}{\\sqrt{R}} + \\sqrt{R}\\mu_1, \\sqrt{\\frac{\\sigma_0^2-\\sigma_1^2}{R} + \\sigma_1^2} \\right) \n",
    "    + B\\Lambda_1 \\left(R, \\frac{\\mu_0 - \\mu_1}{\\sqrt{R}} + \\sqrt{R}\\mu_1, \\sqrt{\\frac{\\sigma_0^2 -\\sigma_1^2}{R} + \\sigma_1^2} \\right) + C/R \\bigg]$$"
   ]
  },
  {
   "cell_type": "code",
   "execution_count": 1,
   "id": "8a958c6d-591d-483c-9b61-b30683472947",
   "metadata": {},
   "outputs": [],
   "source": [
    "%matplotlib inline\n",
    "import matplotlib.pyplot as plt\n",
    "import numpy as np\n",
    "from scipy import stats\n",
    "\n",
    "from disp import set_plot\n",
    "\n",
    "\n",
    "DX = .0005\n",
    "X_MIN, X_MAX = -20, 20\n",
    "X = np.linspace(X_MIN, X_MAX, int((X_MAX-X_MIN)/DX)+1)\n",
    "\n",
    "def norm(x, mu, sgm):\n",
    "    return stats.norm.pdf(x, loc=mu, scale=sgm)\n",
    "\n",
    "def phi(x, mu, sgm):\n",
    "    return stats.norm.cdf(x, loc=mu, scale=sgm)\n",
    "\n",
    "def lam_2(r, mu, sgm):\n",
    "    return DX*np.sum(X**2*norm(X, mu, sgm)*phi(X, mu, sgm)**(r-1))\n",
    "\n",
    "def lam_1(r, mu, sgm):\n",
    "    return DX*np.sum(X*norm(X, mu, sgm)*phi(X, mu, sgm)**(r-1))\n",
    "\n",
    "def get_lam_star(r, mu_0, mu_1, sgm_0, sgm_1):\n",
    "    a = np.sqrt(r)*(mu_0 - mu_1)\n",
    "    b = np.sqrt(r)*mu_1\n",
    "    c = sgm_0**2 - sgm_1**2\n",
    "    d = sgm_1**2\n",
    "    \n",
    "    mu_star = a/r + b\n",
    "    v_star = c/r + d\n",
    "    \n",
    "    aa = c/(2*(c/r + d)**2)\n",
    "    bb = (a*d - b*c)/(c/r + d)**2\n",
    "    cc = (b**2*c - a**2*c/r**2 - 2*a**2*d/r - 2*a*b*d - c**2/r - c*d)/(2*(c/r + d)**2)\n",
    "    \n",
    "    return r/(r-1) * (aa * lam_2(r, mu_star, np.sqrt(v_star)) + bb * lam_1(r, mu_star, np.sqrt(v_star)) + cc/r)"
   ]
  },
  {
   "cell_type": "code",
   "execution_count": 34,
   "id": "870460fb-21c3-4f6d-9442-32054e672459",
   "metadata": {},
   "outputs": [
    {
     "data": {
      "image/png": "[encoded data removed]",
      "text/plain": [
       "<Figure size 374.4x158.4 with 1 Axes>"
      ]
     },
     "metadata": {
      "needs_background": "light"
     },
     "output_type": "display_data"
    }
   ],
   "source": [
    "# lam star vs R\n",
    "rs = np.arange(2, 50)\n",
    "sgm_0 = 1\n",
    "sgm_1 = 1\n",
    "mu_0 = 0\n",
    "mu_1 = 0\n",
    "\n",
    "lam_stars = np.nan * np.zeros(len(rs))\n",
    "for cr, r in enumerate(rs):\n",
    "    lam_stars[cr] = get_lam_star(r, mu_0, mu_1, sgm_0, sgm_1)\n",
    "    \n",
    "fig, ax = plt.subplots(1, 1, figsize=(5.2, 2.2), tight_layout=True)\n",
    "\n",
    "ax.plot(rs, lam_stars, lw=1.5, c='k')\n",
    "ax.axhline(0, color='gray', ls='--')\n",
    "ax.axhline(1, color='gray', ls='--')\n",
    "set_plot(ax, x_label='R', y_label=r'$\\lambda^*$', font_size=12)"
   ]
  },
  {
   "cell_type": "code",
   "execution_count": null,
   "id": "938eb962-2512-4e3d-a103-90cd517c797d",
   "metadata": {},
   "outputs": [],
   "source": []
  }
 ],
 "metadata": {
  "kernelspec": {
   "display_name": "Python 3 (ipykernel)",
   "language": "python",
   "name": "python3"
  },
  "language_info": {
   "codemirror_mode": {
    "name": "ipython",
    "version": 3
   },
   "file_extension": ".py",
   "mimetype": "text/x-python",
   "name": "python",
   "nbconvert_exporter": "python",
   "pygments_lexer": "ipython3",
   "version": "3.9.13"
  }
 },
 "nbformat": 4,
 "nbformat_minor": 5
}
