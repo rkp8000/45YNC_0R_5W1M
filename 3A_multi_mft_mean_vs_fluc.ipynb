{
 "cells": [
  {
   "cell_type": "markdown",
   "id": "56156916-3362-48d4-90b7-b512b409e03e",
   "metadata": {},
   "source": [
    "# Mean-field simulations of mean- vs fluctuation-driven multistability"
   ]
  },
  {
   "cell_type": "markdown",
   "id": "9a989b40-8c31-4f0a-b022-870e8657df20",
   "metadata": {
    "tags": []
   },
   "source": [
    "## Dynamics\n",
    "\n",
    "$$\\alpha_r\\left(\\Theta^t\\right) = \n",
    "\\int_{x}\\mathcal{N}\\left(x; \\mu_r, \\sigma_r\\right) \\prod_{r'\\neq r} \\Phi\\left(x; \\mu_{r'}, \\sigma_{r'}\\right)$$\n",
    "\n",
    "$$\\mu_r = R \\sum_{r'} \\mu_J(r,r') \\Theta_{r'}^t + u_r^t \\quad \\quad \\sigma^2_r = R \\sum_{r'} \\sigma_J^2(r,r') \\Theta_{r'}^t + v_r^t$$\n",
    "\n",
    "Infinite networks\n",
    "\n",
    "$$\\Theta^{t+1} = \\boldsymbol{\\alpha}(\\Theta^t)$$\n",
    "\n",
    "Finite networks\n",
    "\n",
    "$$N\\Theta^{t+1} \\sim \\textrm{Multinomial}\\left(\\boldsymbol{\\alpha}(\\Theta^t), N\\right)$$"
   ]
  },
  {
   "cell_type": "code",
   "execution_count": 1,
   "id": "62433edf-2be1-41b5-a814-a3a5e2530d8a",
   "metadata": {},
   "outputs": [],
   "source": [
    "import matplotlib.pyplot as plt\n",
    "import numpy as np\n",
    "from scipy import stats\n",
    "import sys\n",
    "\n",
    "from disp import set_plot"
   ]
  },
  {
   "cell_type": "code",
   "execution_count": 2,
   "id": "a9b9114b-8e4c-4591-93c0-f994b82f7561",
   "metadata": {},
   "outputs": [],
   "source": [
    "# numeric params for computing MF quantities\n",
    "DX = .01\n",
    "X_MIN = -200\n",
    "X_MAX = 200\n",
    "\n",
    "X = np.linspace(X_MIN, X_MAX, int((X_MAX-X_MIN)/DX)+1)\n",
    "\n",
    "def norm(x, mu, sgm):\n",
    "    if sgm == 0:\n",
    "        temp = np.zeros(X.shape)\n",
    "        temp[np.argmin(np.abs(X))] = 1/DX\n",
    "        return temp\n",
    "    \n",
    "    return stats.norm.pdf(x, loc=mu, scale=sgm)\n",
    "\n",
    "def phi(x, mu, sgm):\n",
    "    if sgm == 0:\n",
    "        temp = (X >= 0).astype(float)\n",
    "        temp[X == 0] = .5\n",
    "        return temp\n",
    "    \n",
    "    return stats.norm.cdf(x, loc=mu, scale=sgm)\n",
    "\n",
    "def alph(th, u, v, D, mu_j, sgm_j, N=np.inf):\n",
    "    \"\"\"\n",
    "    th \\in [0, 1]^D\n",
    "    u \\in R^D\n",
    "    v \\in R_+^D\n",
    "    D scalar\n",
    "    mu_j \\in R^{DxD}\n",
    "    sgm_j \\in R^{DxD}\n",
    "    \"\"\"\n",
    "    mu_d = D*(mu_j @ th) + u\n",
    "    sgm_d = np.sqrt(D*((sgm_j**2)@th) + v)\n",
    "    \n",
    "    phis = np.array([phi(X, mu_d_, sgm_d_) for mu_d_, sgm_d_ in zip(mu_d, sgm_d)])\n",
    "    \n",
    "    mnot_d = ~np.eye(len(th), dtype=bool) # masks for selecting all but one d\n",
    "    \n",
    "    th_next = np.nan*np.zeros(D)\n",
    "    for d, (mu_d_, sgm_d_) in enumerate(zip(mu_d, sgm_d)):\n",
    "        \n",
    "        mask_d = mnot_d[d]\n",
    "        th_next[d] = min(np.sum(norm(X, mu_d_, sgm_d_) * np.prod(phis[mask_d, :], axis=0))*DX, 1)\n",
    "        \n",
    "    if np.isinf(N):\n",
    "        return th_next\n",
    "    else:\n",
    "        return np.random.multinomial(N, th_next)/N"
   ]
  },
  {
   "cell_type": "markdown",
   "id": "1d5510cd-2122-4ca1-8e60-953d384c47e4",
   "metadata": {},
   "source": [
    "## Mean-based self-coupled network"
   ]
  },
  {
   "cell_type": "code",
   "execution_count": 3,
   "id": "3f56d5d2-acd3-4a78-96ad-f7498524e918",
   "metadata": {},
   "outputs": [
    {
     "name": "stdout",
     "output_type": "stream",
     "text": [
      "...."
     ]
    }
   ],
   "source": [
    "D = 16\n",
    "mself = np.eye(D, dtype=bool)\n",
    "\n",
    "MU_J_SELFS = [0, 1.5, 3, 4.5]\n",
    "MU_J_CROSS = 0\n",
    "SGM_J_SELF = 1\n",
    "SGM_J_CROSS = 1\n",
    "\n",
    "ths_all = []\n",
    "\n",
    "for MU_J_SELF in MU_J_SELFS:\n",
    "    sys.stdout.write('.')\n",
    "\n",
    "    MU_J = np.nan*np.zeros((D, D))\n",
    "    SGM_J = np.nan*np.zeros((D, D))\n",
    "\n",
    "    MU_J[mself] = MU_J_SELF\n",
    "    MU_J[~mself] = MU_J_CROSS\n",
    "\n",
    "    SGM_J[mself] = SGM_J_SELF\n",
    "    SGM_J[~mself] = SGM_J_CROSS\n",
    "\n",
    "    th_0 = 1 + .05*np.random.rand(D)\n",
    "    th_0 /= th_0.sum()\n",
    "\n",
    "    t_max = 100\n",
    "    t = np.arange(t_max)\n",
    "\n",
    "    ths = np.nan*np.zeros((t_max, D))\n",
    "    ths[0, :] = th_0\n",
    "\n",
    "    for t_ in t[1:]:\n",
    "        ths[t_, :] = alph(ths[t_-1, :], u=0, v=0, D=D, mu_j=MU_J, sgm_j=SGM_J)\n",
    "        \n",
    "    ths_all.append(ths)"
   ]
  },
  {
   "cell_type": "code",
   "execution_count": 4,
   "id": "a59d830f-0939-4225-9305-5c6903351ace",
   "metadata": {},
   "outputs": [
    {
     "data": {
      "image/png": "[encoded data removed]",
      "text/plain": [
       "<Figure size 360x288 with 4 Axes>"
      ]
     },
     "metadata": {
      "needs_background": "light"
     },
     "output_type": "display_data"
    }
   ],
   "source": [
    "fig, axs = plt.subplots(2, 2, figsize=(5, 4), tight_layout=True, sharex=True, sharey=True)\n",
    "axs = axs.flatten()\n",
    "for ax, ths, MU_J_SELF in zip(axs, ths_all, MU_J_SELFS):\n",
    "    ax.plot(ths, lw=2)\n",
    "    if ax in (axs[0], axs[2]):\n",
    "        ax.set_ylabel('Firing rate')\n",
    "    if ax in (axs[2], axs[3]):\n",
    "        ax.set_xlabel('Time')\n",
    "    set_plot(ax, title=r'$(\\mu_J)_{self} = $' + f'{MU_J_SELF}', font_size=14)\n",
    "    \n",
    "fig.savefig('figs/main/3_multi_mean_mft.svg')"
   ]
  },
  {
   "cell_type": "markdown",
   "id": "8c7d3da7-20bb-4703-a38f-09af95617d15",
   "metadata": {},
   "source": [
    "## Variance-based self-coupled network"
   ]
  },
  {
   "cell_type": "code",
   "execution_count": 5,
   "id": "307d7fd7-04bd-43a4-ac31-26cdee89f959",
   "metadata": {},
   "outputs": [
    {
     "name": "stdout",
     "output_type": "stream",
     "text": [
      "...."
     ]
    }
   ],
   "source": [
    "D = 16\n",
    "mself = np.eye(D, dtype=bool)\n",
    "\n",
    "MU_J_SELF = 0\n",
    "MU_J_CROSS = 0\n",
    "SGM_J_SELFS = [1, 5, 9, 13]\n",
    "SGM_J_CROSS = 1\n",
    "\n",
    "ths_all = []\n",
    "\n",
    "for SGM_J_SELF in SGM_J_SELFS:\n",
    "    sys.stdout.write('.')\n",
    "\n",
    "    MU_J = np.nan*np.zeros((D, D))\n",
    "    SGM_J = np.nan*np.zeros((D, D))\n",
    "\n",
    "    MU_J[mself] = MU_J_SELF\n",
    "    MU_J[~mself] = MU_J_CROSS\n",
    "\n",
    "    SGM_J[mself] = SGM_J_SELF\n",
    "    SGM_J[~mself] = SGM_J_CROSS\n",
    "\n",
    "    th_0 = 1 + .05*np.random.rand(D)\n",
    "    th_0 /= th_0.sum()\n",
    "\n",
    "    t_max = 100\n",
    "    t = np.arange(t_max)\n",
    "\n",
    "    ths = np.nan*np.zeros((t_max, D))\n",
    "    ths[0, :] = th_0\n",
    "\n",
    "    for t_ in t[1:]:\n",
    "        ths[t_, :] = alph(ths[t_-1, :], u=0, v=0, D=D, mu_j=MU_J, sgm_j=SGM_J)\n",
    "        \n",
    "    ths_all.append(ths)"
   ]
  },
  {
   "cell_type": "code",
   "execution_count": 6,
   "id": "bac4c203-0613-4c36-a971-75c009202cf1",
   "metadata": {},
   "outputs": [
    {
     "data": {
      "image/png": "[encoded data removed]",
      "text/plain": [
       "<Figure size 360x288 with 4 Axes>"
      ]
     },
     "metadata": {
      "needs_background": "light"
     },
     "output_type": "display_data"
    }
   ],
   "source": [
    "fig, axs = plt.subplots(2, 2, figsize=(5, 4), tight_layout=True, sharex=True, sharey=True)\n",
    "axs = axs.flatten()\n",
    "for ax, ths, SGM_J_SELF in zip(axs, ths_all, SGM_J_SELFS):\n",
    "    ax.plot(ths, lw=2)\n",
    "    if ax in (axs[0], axs[2]):\n",
    "        ax.set_ylabel('Firing rate')\n",
    "    if ax in (axs[2], axs[3]):\n",
    "        ax.set_xlabel('Time')\n",
    "    ax.axhline(0, color='gray', ls='--')\n",
    "    set_plot(ax, title=r'$(\\sigma_J)_{self} = $' + f'{SGM_J_SELF}', font_size=14)\n",
    "    \n",
    "fig.savefig('figs/main/3_multi_fluc_mft.svg')"
   ]
  },
  {
   "cell_type": "code",
   "execution_count": null,
   "id": "e751f5f3-5c68-4664-ab07-064bcd8129ba",
   "metadata": {},
   "outputs": [],
   "source": []
  }
 ],
 "metadata": {
  "kernelspec": {
   "display_name": "Python 3 (ipykernel)",
   "language": "python",
   "name": "python3"
  },
  "language_info": {
   "codemirror_mode": {
    "name": "ipython",
    "version": 3
   },
   "file_extension": ".py",
   "mimetype": "text/x-python",
   "name": "python",
   "nbconvert_exporter": "python",
   "pygments_lexer": "ipython3",
   "version": "3.9.13"
  }
 },
 "nbformat": 4,
 "nbformat_minor": 5
}
