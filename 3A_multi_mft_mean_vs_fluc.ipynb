{
 "cells": [
  {
   "cell_type": "markdown",
   "id": "969dadec",
   "metadata": {},
   "source": [
    "# Mean-field simulations of mean- vs fluctuation-driven multistability"
   ]
  },
  {
   "cell_type": "code",
   "execution_count": 1,
   "id": "f48cd7ea",
   "metadata": {},
   "outputs": [],
   "source": [
    "import matplotlib.pyplot as plt\n",
    "import numpy as np\n",
    "from scipy import stats\n",
    "import sys\n",
    "\n",
    "from disp import set_plot"
   ]
  },
  {
   "cell_type": "code",
   "execution_count": 2,
   "id": "90b3000c",
   "metadata": {},
   "outputs": [],
   "source": [
    "# numeric params for computing MF quantities\n",
    "DX = .01\n",
    "X_MIN = -50\n",
    "X_MAX = 150\n",
    "\n",
    "X = np.linspace(X_MIN, X_MAX, int((X_MAX-X_MIN)/DX)+1)\n",
    "\n",
    "def norm(x, mu, sgm):\n",
    "    if sgm == 0:\n",
    "        temp = np.zeros(X.shape)\n",
    "        temp[np.argmin(np.abs(X))] = 1/DX\n",
    "        return temp\n",
    "    \n",
    "    return stats.norm.pdf(x, loc=mu, scale=sgm)\n",
    "\n",
    "def phi(x, mu, sgm):\n",
    "    if sgm == 0:\n",
    "        temp = (X >= 0).astype(float)\n",
    "        temp[X == 0] = .5\n",
    "        return temp\n",
    "    \n",
    "    return stats.norm.cdf(x, loc=mu, scale=sgm)\n",
    "\n",
    "def alph(th, u, v, D, mu_j, sgm_j, N=np.inf):\n",
    "    \"\"\"\n",
    "    th \\in [0, 1]^D\n",
    "    u \\in R^D\n",
    "    v \\in R_+^D\n",
    "    D scalar\n",
    "    mu_j \\in R^{DxD}\n",
    "    sgm_j \\in R^{DxD}\n",
    "    \"\"\"\n",
    "    mu_d = D*(mu_j @ th) + u\n",
    "    sgm_d = np.sqrt(D*((sgm_j**2)@th) + v)\n",
    "    \n",
    "    phis = np.array([phi(X, mu_d_, sgm_d_) for mu_d_, sgm_d_ in zip(mu_d, sgm_d)])\n",
    "    \n",
    "    mnot_d = ~np.eye(len(th), dtype=bool) # masks for selecting all but one d\n",
    "    \n",
    "    th_next = np.nan*np.zeros(D)\n",
    "    for d, (mu_d_, sgm_d_) in enumerate(zip(mu_d, sgm_d)):\n",
    "        \n",
    "        mask_d = mnot_d[d]\n",
    "        th_next[d] = min(np.sum(norm(X, mu_d_, sgm_d_) * np.prod(phis[mask_d, :], axis=0))*DX, 1)\n",
    "        \n",
    "    if np.isinf(N):\n",
    "        return th_next\n",
    "    else:\n",
    "        return np.random.multinomial(N, th_next)/N"
   ]
  },
  {
   "cell_type": "markdown",
   "id": "aa449291",
   "metadata": {},
   "source": [
    "## Mean-based self-coupled network"
   ]
  },
  {
   "cell_type": "code",
   "execution_count": 3,
   "id": "3c300326",
   "metadata": {},
   "outputs": [
    {
     "name": "stdout",
     "output_type": "stream",
     "text": [
      "......"
     ]
    }
   ],
   "source": [
    "D = 16\n",
    "mself = np.eye(D, dtype=bool)\n",
    "\n",
    "MU_J_SELFS = [0, 2.07, 2.08, 2.09, 2.1, 4]\n",
    "MU_J_CROSS = 0\n",
    "SGM_J_SELF = 1\n",
    "SGM_J_CROSS = 1\n",
    "\n",
    "ths_all = []\n",
    "\n",
    "for MU_J_SELF in MU_J_SELFS:\n",
    "    sys.stdout.write('.')\n",
    "\n",
    "    MU_J = np.nan*np.zeros((D, D))\n",
    "    SGM_J = np.nan*np.zeros((D, D))\n",
    "\n",
    "    MU_J[mself] = MU_J_SELF\n",
    "    MU_J[~mself] = MU_J_CROSS\n",
    "\n",
    "    SGM_J[mself] = SGM_J_SELF\n",
    "    SGM_J[~mself] = SGM_J_CROSS\n",
    "\n",
    "    th_0 = 1 + .01*(np.arange(D) - D/2)[np.random.permutation(D)]\n",
    "    th_0 /= th_0.sum()\n",
    "\n",
    "    t_max = 100\n",
    "    t = np.arange(t_max)\n",
    "\n",
    "    ths = np.nan*np.zeros((t_max, D))\n",
    "    ths[0, :] = th_0\n",
    "\n",
    "    for t_ in t[1:]:\n",
    "        ths[t_, :] = alph(ths[t_-1, :], u=0, v=0, D=D, mu_j=MU_J, sgm_j=SGM_J)\n",
    "        \n",
    "    ths_all.append(ths)"
   ]
  },
  {
   "cell_type": "code",
   "execution_count": 4,
   "id": "fca3156b",
   "metadata": {},
   "outputs": [
    {
     "data": {
      "image/png": "[encoded data removed]",
      "text/plain": [
       "<Figure size 720x144 with 6 Axes>"
      ]
     },
     "metadata": {
      "needs_background": "light"
     },
     "output_type": "display_data"
    }
   ],
   "source": [
    "fig, axs = plt.subplots(1, len(MU_J_SELFS), figsize=(10, 2), tight_layout=True, sharex=True, sharey=True)\n",
    "axs = axs.flatten()\n",
    "for ax, ths, MU_J_SELF in zip(axs, ths_all, MU_J_SELFS):\n",
    "    ax.plot(ths, lw=2)\n",
    "    if ax is axs[0]:\n",
    "        ax.set_ylabel('Firing rate')\n",
    "    set_plot(ax, x_label='Time', title=r'$(\\mu_J)_0 = $' + f'{MU_J_SELF}', font_size=11)\n",
    "    \n",
    "fig.savefig('figs/main/3_multi_mean_mft.svg')"
   ]
  },
  {
   "cell_type": "markdown",
   "id": "3cc97ffc",
   "metadata": {},
   "source": [
    "## Variance-based self-coupled network"
   ]
  },
  {
   "cell_type": "code",
   "execution_count": 5,
   "id": "4a801654",
   "metadata": {},
   "outputs": [
    {
     "name": "stdout",
     "output_type": "stream",
     "text": [
      "......"
     ]
    }
   ],
   "source": [
    "D = 16\n",
    "mself = np.eye(D, dtype=bool)\n",
    "\n",
    "MU_J_SELF = 0\n",
    "MU_J_CROSS = 0\n",
    "SGM_J_SELFS = [1, 7, 8, 9, 13, 20]\n",
    "SGM_J_CROSS = 1\n",
    "\n",
    "ths_all = []\n",
    "\n",
    "for SGM_J_SELF in SGM_J_SELFS:\n",
    "    sys.stdout.write('.')\n",
    "\n",
    "    MU_J = np.nan*np.zeros((D, D))\n",
    "    SGM_J = np.nan*np.zeros((D, D))\n",
    "\n",
    "    MU_J[mself] = MU_J_SELF\n",
    "    MU_J[~mself] = MU_J_CROSS\n",
    "\n",
    "    SGM_J[mself] = SGM_J_SELF\n",
    "    SGM_J[~mself] = SGM_J_CROSS\n",
    "\n",
    "    th_0 = 1 + .01*(np.arange(D)-D/2)[np.random.permutation(D)]\n",
    "    th_0 /= th_0.sum()\n",
    "\n",
    "    t_max = 100\n",
    "    t = np.arange(t_max)\n",
    "\n",
    "    ths = np.nan*np.zeros((t_max, D))\n",
    "    ths[0, :] = th_0\n",
    "\n",
    "    for t_ in t[1:]:\n",
    "        ths[t_, :] = alph(ths[t_-1, :], u=0, v=0, D=D, mu_j=MU_J, sgm_j=SGM_J)\n",
    "        \n",
    "    ths_all.append(ths)"
   ]
  },
  {
   "cell_type": "code",
   "execution_count": 6,
   "id": "06e7ff6b",
   "metadata": {},
   "outputs": [
    {
     "data": {
      "image/png": "[encoded data removed]",
      "text/plain": [
       "<Figure size 720x144 with 6 Axes>"
      ]
     },
     "metadata": {
      "needs_background": "light"
     },
     "output_type": "display_data"
    }
   ],
   "source": [
    "fig, axs = plt.subplots(1, len(SGM_J_SELFS), figsize=(10, 2), tight_layout=True, sharex=True, sharey=True)\n",
    "axs = axs.flatten()\n",
    "for ax, ths, SGM_J_SELF in zip(axs, ths_all, SGM_J_SELFS):\n",
    "    ax.plot(ths, lw=2)\n",
    "    if ax is axs[0]:\n",
    "        ax.set_ylabel('Firing rate')\n",
    "    ax.set_xlabel('Time')\n",
    "    ax.axhline(0, color='gray', ls='--')\n",
    "    set_plot(ax, title=r'$(\\sigma_J)_0 = $' + f'{SGM_J_SELF}', font_size=11)\n",
    "    \n",
    "fig.savefig('figs/main/3_multi_fluc_mft.svg')"
   ]
  },
  {
   "cell_type": "code",
   "execution_count": null,
   "id": "b60ff12d",
   "metadata": {},
   "outputs": [],
   "source": []
  }
 ],
 "metadata": {
  "kernelspec": {
   "display_name": "Python 3 (ipykernel)",
   "language": "python",
   "name": "python3"
  },
  "language_info": {
   "codemirror_mode": {
    "name": "ipython",
    "version": 3
   },
   "file_extension": ".py",
   "mimetype": "text/x-python",
   "name": "python",
   "nbconvert_exporter": "python",
   "pygments_lexer": "ipython3",
   "version": "3.9.13"
  }
 },
 "nbformat": 4,
 "nbformat_minor": 5
}
