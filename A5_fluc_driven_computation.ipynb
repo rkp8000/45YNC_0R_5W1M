{
 "cells": [
  {
   "cell_type": "markdown",
   "id": "2e80bb39-81b9-42b8-88bc-0f300b9b6bf8",
   "metadata": {},
   "source": [
    "Computational state space\n",
    "\n",
    "$$s_t \\in \\mathcal{S}$$\n",
    "\n",
    "$$|\\mathcal{S}| = M$$\n",
    "\n",
    "$$H[P(s)] = \\log |\\mathcal{S}|$$\n",
    "\n",
    "Update rule:\n",
    "\n",
    "$$s_t \\leftarrow u$$\n",
    "\n",
    "$$s_{t+1} = h(s_t)$$\n",
    "\n",
    "$$I_\\mathcal{S} = \\log |\\mathcal{S}|$$"
   ]
  },
  {
   "cell_type": "markdown",
   "id": "bc90ef19-38a5-4973-a903-2c5cc9839d66",
   "metadata": {},
   "source": [
    "Physical state space\n",
    "\n",
    "$$\\mathcal{Y}^* \\equiv \\{1, \\dots, D\\}^N$$\n",
    "\n",
    "$$y_t \\in \\mathcal{Y} \\equiv \\{y \\in \\mathcal{Y}^* | g_c(y)\\}$$"
   ]
  },
  {
   "cell_type": "markdown",
   "id": "cc39895e-dc4b-40b8-86fc-ed429a2bda30",
   "metadata": {},
   "source": [
    "Stochastic dynamics\n",
    "\n",
    "$$y_t \\sim P(y_t|u)$$\n",
    "\n",
    "$$y_{t+1} = f(y_t, \\eta) \\sim P(y_{t+1}|y_t)$$"
   ]
  },
  {
   "cell_type": "markdown",
   "id": "56ba1a34-aa0b-41e0-94a9-b9ca0ae3b079",
   "metadata": {},
   "source": [
    "Information transferred\n",
    "\n",
    "$$I_\\mathcal{Y} = \\text{MI}[y_{t+1}; y_t]$$"
   ]
  },
  {
   "cell_type": "code",
   "execution_count": null,
   "id": "bc472a62-4f05-47bf-bf2b-73749f5ad5c7",
   "metadata": {},
   "outputs": [],
   "source": []
  }
 ],
 "metadata": {
  "kernelspec": {
   "display_name": "Python 3 (ipykernel)",
   "language": "python",
   "name": "python3"
  },
  "language_info": {
   "codemirror_mode": {
    "name": "ipython",
    "version": 3
   },
   "file_extension": ".py",
   "mimetype": "text/x-python",
   "name": "python",
   "nbconvert_exporter": "python",
   "pygments_lexer": "ipython3",
   "version": "3.9.15"
  }
 },
 "nbformat": 4,
 "nbformat_minor": 5
}
