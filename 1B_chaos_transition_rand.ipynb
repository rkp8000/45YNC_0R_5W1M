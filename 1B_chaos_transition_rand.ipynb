{
 "cells": [
  {
   "cell_type": "markdown",
   "id": "43ab1c26-ebde-4992-8c2b-8c2b5fd56adc",
   "metadata": {},
   "source": [
    "# Numerical analysis of transition to chaos (unstructured networks)"
   ]
  },
  {
   "cell_type": "code",
   "execution_count": 1,
   "id": "801288cd-d2e8-4d88-b16c-ad076525c82b",
   "metadata": {},
   "outputs": [],
   "source": [
    "import matplotlib.pyplot as plt\n",
    "import numpy as np\n",
    "from scipy import stats\n",
    "import sys\n",
    "\n",
    "from ntwk import SoftmaxNtwk\n",
    "from disp import set_plot, set_color"
   ]
  },
  {
   "cell_type": "code",
   "execution_count": 2,
   "id": "7238e44b-f1de-4e8b-a2a5-4683f00b7fc7",
   "metadata": {},
   "outputs": [],
   "source": [
    "NTR = 10  # num trials per network config\n",
    "TPRE = 10  # pre-simulation time for sampling init conds\n",
    "TSMLN = 20  # simulation time for gain est\n",
    "NITER = 10  # number of iterations for critical gain estimation alg"
   ]
  },
  {
   "cell_type": "markdown",
   "id": "1e3adfec-6288-444f-b71c-5f15e92508db",
   "metadata": {},
   "source": [
    "## Adaptive algorithm for critical gain estimation\n",
    "\n",
    "First compute separation rate $\\lambda(g)$ at lower and upper bounds $g_{lb}$ and $g_{ub}$ s.t. $\\lambda(g_{lb}) < 0 < \\lambda(g_{ub})$. Then iterate $N_g$ times:\n",
    "\n",
    "Let $g_{test} = (g_{lb} + g_{ub})/2$.\n",
    "\n",
    "Estimate $\\lambda(g_{test})$.\n",
    "\n",
    "If $\\lambda(g_{test}) < 0$, then $g_{lb} \\leftarrow g_{test}$. Else $g_{ub} \\leftarrow g_{test}$.\n",
    "\n",
    "After $N_g$ iterations, approximate $g_c = (g_{lb} + g_{ub})/2$."
   ]
  },
  {
   "cell_type": "code",
   "execution_count": 3,
   "id": "519d0b3c-f8e6-4f59-86ef-7e5c99326b15",
   "metadata": {},
   "outputs": [],
   "source": [
    "RS_G_LB_G_UB = [\n",
    "    (2, 2, 5),\n",
    "    (4, 1, 2),\n",
    "    (6, 1, 2),\n",
    "    (8, .75, 1.25),\n",
    "    (12, .5, 1),\n",
    "    (16, .5, 1),\n",
    "    (24, .5, 1),\n",
    "    (32, .5, 1),\n",
    "]\n",
    "RS = list(zip(*RS_G_LB_G_UB))[0]\n",
    "\n",
    "NS = [100, 500, 1000, 2000]\n",
    "# NS = [500, 1000]"
   ]
  },
  {
   "cell_type": "markdown",
   "id": "6774187a-29ac-4a0d-bb79-e16f8f153e29",
   "metadata": {},
   "source": [
    "## Run/save simulations\n",
    "\n",
    "(takes a while)"
   ]
  },
  {
   "cell_type": "code",
   "execution_count": 4,
   "id": "db07f80f-1b18-4dd7-924a-d7d8c5f29de7",
   "metadata": {},
   "outputs": [],
   "source": [
    "def est_lam(t, ys, ys_ptb):\n",
    "    \"\"\"Estimate trajectory separation rate.\"\"\"\n",
    "    \n",
    "    # rms separation dists btwn ys and ys_ptb over time\n",
    "    dists = np.sqrt(np.mean((ys-ys_ptb)**2, axis=(1, 2)))\n",
    "    \n",
    "    # slope of log of separation distance vs time at start of smln\n",
    "    lam = stats.linregress(t[:2], np.log(dists[:2]))[0]\n",
    "    \n",
    "    return lam\n",
    "\n",
    "\n",
    "def run_smlns(ntwk, g, verbose=True):\n",
    "    \"\"\"Run baseline and perturbed simulation.\"\"\"\n",
    "    ys_all = []\n",
    "    \n",
    "    for ctr in range(NTR):\n",
    "        \n",
    "        x_0 = np.random.randn(N, R)\n",
    "        \n",
    "        # preparatory simulation\n",
    "        if verbose:  sys.stdout.write('>')\n",
    "        ys_pre = ntwk.run(g=g, t_max=TPRE, x_0=x_0)[-1]\n",
    "        \n",
    "        # unperturbed run\n",
    "        y_0 = ys_pre[-1, :, :]\n",
    "        \n",
    "        if verbose:  sys.stdout.write('-')\n",
    "        t, _, ys = ntwk.run(g=g, t_max=TSMLN, y_0=y_0)\n",
    "        \n",
    "        # perturbed run\n",
    "        y_0_ptb = y_0.copy()\n",
    "        \n",
    "        # swap high/low vals within random row\n",
    "        irow = np.random.randint(N)\n",
    "        imin = y_0_ptb[irow, :].argmin()\n",
    "        imax = y_0_ptb[irow, :].argmax()\n",
    "\n",
    "        y_0_ptb[irow, imin] = y_0_ptb[irow].max()\n",
    "        y_0_ptb[irow, imax] = y_0_ptb[irow].min()\n",
    "\n",
    "        if verbose:  sys.stdout.write('-')\n",
    "        t, _, ys_ptb = ntwk.run(g, t_max=TSMLN, y_0=y_0_ptb)\n",
    "        \n",
    "        ys_all.append([ys_pre, ys, ys_ptb])\n",
    "    return t, ys_all"
   ]
  },
  {
   "cell_type": "code",
   "execution_count": 5,
   "id": "c9f824d0-0553-4307-9a6f-13cb003c8023",
   "metadata": {},
   "outputs": [
    {
     "ename": "Exception",
     "evalue": "",
     "output_type": "error",
     "traceback": [
      "\u001b[0;31m---------------------------------------------------------------------------\u001b[0m",
      "\u001b[0;31mException\u001b[0m                                 Traceback (most recent call last)",
      "Input \u001b[0;32mIn [5]\u001b[0m, in \u001b[0;36m<cell line: 1>\u001b[0;34m()\u001b[0m\n\u001b[0;32m----> 1\u001b[0m \u001b[38;5;28;01mraise\u001b[39;00m \u001b[38;5;167;01mException\u001b[39;00m\n\u001b[1;32m      2\u001b[0m g_seqs \u001b[38;5;241m=\u001b[39m [[] \u001b[38;5;28;01mfor\u001b[39;00m N \u001b[38;5;129;01min\u001b[39;00m NS]\n\u001b[1;32m      3\u001b[0m lam_seqs \u001b[38;5;241m=\u001b[39m [[] \u001b[38;5;28;01mfor\u001b[39;00m N \u001b[38;5;129;01min\u001b[39;00m NS]\n",
      "\u001b[0;31mException\u001b[0m: "
     ]
    }
   ],
   "source": [
    "raise Exception\n",
    "g_seqs = [[] for N in NS]\n",
    "lam_seqs = [[] for N in NS]\n",
    "\n",
    "for cN, N in enumerate(NS):\n",
    "    for R, G_LB, G_UB in RS_G_LB_G_UB:\n",
    "        print(f'N, R = {N, R}')\n",
    "    \n",
    "        # make ntwk\n",
    "        J = np.random.randn(R, R, N, N)*np.sqrt(R/N)\n",
    "        ntwk = SoftmaxNtwk(J)\n",
    "        \n",
    "        g_lb = G_LB\n",
    "        g_ub = G_UB\n",
    "        \n",
    "        sys.stdout.write(f'g = {g_lb} ')\n",
    "        t, ys_all_lb = run_smlns(ntwk, g=g_lb)\n",
    "        lam_lb = np.mean([est_lam(t, ys, ys_ptb) for _, ys, ys_ptb in ys_all_lb])\n",
    "        sys.stdout.write(f' lam = {lam_lb:.3f}\\n')\n",
    "        \n",
    "        sys.stdout.write(f'g = {g_ub} ')\n",
    "        t, ys_all_ub = run_smlns(ntwk, g=g_ub)\n",
    "        lam_ub = np.mean([est_lam(t, ys, ys_ptb) for _, ys, ys_ptb in ys_all_ub])\n",
    "        sys.stdout.write(f' lam = {lam_ub:.3f}\\n')\n",
    "        \n",
    "        assert lam_lb < 0 < lam_ub\n",
    "        \n",
    "        g_seq = [G_LB, G_UB]\n",
    "        lam_seq = [lam_lb, lam_ub]\n",
    "        \n",
    "        for citer in range(NITER-2):\n",
    "            g = .5*(g_lb + g_ub)\n",
    "            sys.stdout.write(f'g = {g} ')\n",
    "            \n",
    "            t, ys_all = run_smlns(ntwk, g=g)\n",
    "            lam = np.mean([est_lam(t, ys, ys_ptb) for _, ys, ys_ptb in ys_all])\n",
    "            \n",
    "            sys.stdout.write(f' lam = {lam:.3f}\\n')\n",
    "            if lam < 0:\n",
    "                g_lb = g  # make g new lower bound\n",
    "            elif lam > 0:\n",
    "                g_ub = g  # make g new upper bound\n",
    "            \n",
    "            g_seq.append(g)\n",
    "            lam_seq.append(lam)\n",
    "            \n",
    "        g_seqs[cN].append(g_seq)\n",
    "        lam_seqs[cN].append(lam_seq)\n",
    "        print('')\n",
    "        \n",
    "np.save('data/chaos_transition_rand/gain_est_rslts.npy', np.array([{'NS': NS, 'RS': RS, 'g_seqs': g_seqs, 'lam_seqs': lam_seqs, 'NTR': NTR}]))"
   ]
  },
  {
   "cell_type": "markdown",
   "id": "a9d8360d-312d-4deb-889c-4cc378056b36",
   "metadata": {},
   "source": [
    "## Load/analyze simulations"
   ]
  },
  {
   "cell_type": "code",
   "execution_count": 6,
   "id": "48b22ae3-6afe-4907-8d2e-b02651dcbac4",
   "metadata": {},
   "outputs": [],
   "source": [
    "data = np.load('data/chaos_transition_rand/gain_est_rslts.npy', allow_pickle=True)[0]\n",
    "DS = data['RS']\n",
    "NS = data['NS']\n",
    "g_seqs = data['g_seqs']\n",
    "lam_seqs = data['lam_seqs']"
   ]
  },
  {
   "cell_type": "code",
   "execution_count": 9,
   "id": "b47a3d88-b3a5-4091-93fc-79b436d8f5fd",
   "metadata": {},
   "outputs": [
    {
     "data": {
      "image/png": "[encoded data removed]",
      "text/plain": [
       "<Figure size 324x180 with 1 Axes>"
      ]
     },
     "metadata": {
      "needs_background": "light"
     },
     "output_type": "display_data"
    }
   ],
   "source": [
    "fig, ax = plt.subplots(1, 1, figsize=(4.5, 2.5), tight_layout=True)\n",
    "for cN, N in enumerate(NS):\n",
    "    gcs = np.array([g_seq[-1] for g_seq in g_seqs[cN]])\n",
    "    ax.plot(DS, gcs)\n",
    "    \n",
    "ax.legend([f'N={N}' for N in NS])\n",
    "ax.set_ylim(bottom=0)\n",
    "ax.grid()\n",
    "set_plot(ax, x_label='D', y_label='Critical gain')\n",
    "\n",
    "fig.savefig('figs/main/1_critical_gain.svg')"
   ]
  },
  {
   "cell_type": "code",
   "execution_count": null,
   "id": "7e0b5a68-3cfa-40af-9936-9ba202577cc7",
   "metadata": {},
   "outputs": [],
   "source": []
  }
 ],
 "metadata": {
  "kernelspec": {
   "display_name": "Python 3 (ipykernel)",
   "language": "python",
   "name": "python3"
  },
  "language_info": {
   "codemirror_mode": {
    "name": "ipython",
    "version": 3
   },
   "file_extension": ".py",
   "mimetype": "text/x-python",
   "name": "python",
   "nbconvert_exporter": "python",
   "pygments_lexer": "ipython3",
   "version": "3.9.13"
  }
 },
 "nbformat": 4,
 "nbformat_minor": 5
}
