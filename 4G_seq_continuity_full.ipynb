{
 "cells": [
  {
   "cell_type": "markdown",
   "id": "47a7bd27",
   "metadata": {},
   "source": [
    "# Example long full smlns for mean- vs fluc-driven sequences"
   ]
  },
  {
   "cell_type": "code",
   "execution_count": 1,
   "id": "76411cd0",
   "metadata": {},
   "outputs": [],
   "source": [
    "import matplotlib.pyplot as plt\n",
    "import numpy as np\n",
    "from scipy import stats\n",
    "import sys\n",
    "\n",
    "from aux import get_c_mean_p, get_c_spd\n",
    "from disp import set_plot\n",
    "from ntwk import SoftmaxNtwk"
   ]
  },
  {
   "cell_type": "code",
   "execution_count": 2,
   "id": "79ba4d1b",
   "metadata": {},
   "outputs": [],
   "source": [
    "D = 16\n",
    "\n",
    "mself = np.eye(D, dtype=bool)\n",
    "mseq = np.diag(np.ones(D-1), -1).astype(bool)\n",
    "mseq[0, -1] = True  # periodic\n",
    "\n",
    "t_max = 2000\n",
    "t = np.arange(t_max)\n",
    "\n",
    "t_start = 200  # for speed estimation"
   ]
  },
  {
   "cell_type": "code",
   "execution_count": 3,
   "id": "78b08dab",
   "metadata": {},
   "outputs": [],
   "source": [
    "A = np.arange(0, 2*np.pi, 2*np.pi/D)"
   ]
  },
  {
   "cell_type": "code",
   "execution_count": 4,
   "id": "c1f5abec",
   "metadata": {},
   "outputs": [],
   "source": [
    "N_MD = 2500\n",
    "N_FD = 2500"
   ]
  },
  {
   "cell_type": "markdown",
   "id": "f1af9d9a",
   "metadata": {},
   "source": [
    "# Mean-driven sequence network (starting from mean-self-coupled network)"
   ]
  },
  {
   "cell_type": "code",
   "execution_count": 5,
   "id": "b59ab498",
   "metadata": {},
   "outputs": [
    {
     "name": "stdout",
     "output_type": "stream",
     "text": [
      "......................................."
     ]
    }
   ],
   "source": [
    "MU_J_SELF = 3\n",
    "MU_J_CROSS = 0\n",
    "MU_J_SEQ = 2.3\n",
    "\n",
    "SGM_J_SELF = 1\n",
    "SGM_J_CROSS = 1\n",
    "SGM_J_SEQ = 1\n",
    "\n",
    "MU_J = np.nan*np.zeros((D, D))\n",
    "SGM_J = np.nan*np.zeros((D, D))\n",
    "\n",
    "MU_J[mself] = MU_J_SELF\n",
    "MU_J[~mself] = MU_J_CROSS\n",
    "MU_J[mseq] = MU_J_SEQ\n",
    "\n",
    "SGM_J[mself] = SGM_J_SELF\n",
    "SGM_J[~mself] = SGM_J_CROSS\n",
    "SGM_J[mseq] = SGM_J_SEQ\n",
    "\n",
    "J = np.nan*np.zeros((D, D, N_MD, N_MD))\n",
    "\n",
    "for d_to in range(D):\n",
    "    for d_from in range(D):\n",
    "        J[d_to, d_from, :, :] = SGM_J[d_to, d_from]*np.sqrt(D/N_MD)*np.random.randn(N_MD, N_MD) + MU_J[d_to, d_from]*D/N_MD\n",
    "\n",
    "ntwk = SoftmaxNtwk(J)\n",
    "\n",
    "x_0 = np.random.randn(N_MD, D)\n",
    "x_0[:, :10] *= 5\n",
    "g = np.inf\n",
    "t, xs, ys = ntwk.run(g=g, t_max=t_max, x_0=x_0, progress=50)\n",
    "\n",
    "ths_md = ys.mean(axis=1)"
   ]
  },
  {
   "cell_type": "code",
   "execution_count": 6,
   "id": "b1d50f66",
   "metadata": {},
   "outputs": [],
   "source": [
    "# estimate speeds\n",
    "c_mean_md = get_c_mean_p(A, ths_md)\n",
    "spd_md = get_c_spd(c_mean_md, 100)*D/(2*np.pi)"
   ]
  },
  {
   "cell_type": "code",
   "execution_count": 7,
   "id": "e833884a",
   "metadata": {},
   "outputs": [
    {
     "data": {
      "image/png": "[encoded data removed]",
      "text/plain": [
       "<Figure size 864x216 with 1 Axes>"
      ]
     },
     "metadata": {
      "needs_background": "light"
     },
     "output_type": "display_data"
    }
   ],
   "source": [
    "fig, ax = plt.subplots(1, 1, figsize=(12, 3), tight_layout=True)\n",
    "\n",
    "ax.matshow(ths_md.T, origin='lower')\n",
    "ax.set_aspect('auto')\n",
    "ax.plot((c_mean_md % (2*np.pi))*D/(2*np.pi), c='r', lw=2)\n",
    "\n",
    "ax.xaxis.tick_bottom()\n",
    "set_plot(ax, x_label='Time', y_label='d', title=f'Speed = {spd_md:.3f}, T = {1/spd_md:.3f}')"
   ]
  },
  {
   "cell_type": "code",
   "execution_count": 9,
   "id": "d2899cda",
   "metadata": {},
   "outputs": [
    {
     "name": "stdout",
     "output_type": "stream",
     "text": [
      "Look back (mean-driven): 1778\n"
     ]
    }
   ],
   "source": [
    "# compute histogram window over integer number of periods\n",
    "per_md = 1/spd_md*D\n",
    "look_back_md = int(round(per_md * (int(np.floor(t_max/per_md)) - 1)))\n",
    "\n",
    "print(f'Look back (mean-driven): {look_back_md}')"
   ]
  },
  {
   "cell_type": "code",
   "execution_count": 10,
   "id": "298fe822",
   "metadata": {},
   "outputs": [],
   "source": [
    "np.save('data/seq_speed/seqs_long_full_md.npy', np.array([{\n",
    "    'D': D,\n",
    "    \n",
    "    'ths_md': ths_md,\n",
    "    'c_mean_md': c_mean_md,\n",
    "    'spd_md': spd_md,\n",
    "    'look_back_md': look_back_md,\n",
    "}]))"
   ]
  },
  {
   "cell_type": "markdown",
   "id": "fb8ad00f",
   "metadata": {},
   "source": [
    "# Variance-driven sequence network (starting from variance self-coupled network)"
   ]
  },
  {
   "cell_type": "code",
   "execution_count": null,
   "id": "cb352a03",
   "metadata": {},
   "outputs": [],
   "source": [
    "MU_J_SELF = 0\n",
    "MU_J_CROSS = 0\n",
    "MU_J_SEQ = 0\n",
    "\n",
    "SGM_J_SELF = 10\n",
    "SGM_J_CROSS = 1\n",
    "SGM_J_SEQ = 4.2\n",
    "\n",
    "MU_J = np.nan*np.zeros((D, D))\n",
    "SGM_J = np.nan*np.zeros((D, D))\n",
    "\n",
    "MU_J[mself] = MU_J_SELF\n",
    "MU_J[~mself] = MU_J_CROSS\n",
    "MU_J[mseq] = MU_J_SEQ\n",
    "\n",
    "SGM_J[mself] = SGM_J_SELF\n",
    "SGM_J[~mself] = SGM_J_CROSS\n",
    "SGM_J[mseq] = SGM_J_SEQ\n",
    "\n",
    "J = np.nan*np.zeros((D, D, N_FD, N_FD))\n",
    "\n",
    "for d_to in range(D):\n",
    "    for d_from in range(D):\n",
    "        J[d_to, d_from, :, :] = SGM_J[d_to, d_from]*np.sqrt(D/N_FD)*np.random.randn(N_FD, N_FD) + MU_J[d_to, d_from]*D/N_FD\n",
    "\n",
    "ntwk = SoftmaxNtwk(J)\n",
    "\n",
    "x_0 = np.random.randn(N_FD, D)\n",
    "x_0[:, :10] *= 5\n",
    "g = np.inf\n",
    "t, xs, ys = ntwk.run(g=g, t_max=t_max, x_0=x_0, progress=50)\n",
    "\n",
    "ths_fd = ys.mean(axis=1)"
   ]
  },
  {
   "cell_type": "code",
   "execution_count": null,
   "id": "d69e582e",
   "metadata": {},
   "outputs": [],
   "source": [
    "# estimate speeds\n",
    "c_mean_fd = get_c_mean_p(A, ths_fd)\n",
    "spd_fd = get_c_spd(c_mean_fd, t_start)*D/(2*np.pi)"
   ]
  },
  {
   "cell_type": "code",
   "execution_count": null,
   "id": "acee7aaf",
   "metadata": {},
   "outputs": [],
   "source": [
    "fig, ax = plt.subplots(1, 1, figsize=(12, 3), tight_layout=True)\n",
    "\n",
    "ax.matshow(ths_fd.T, origin='lower')\n",
    "ax.set_aspect('auto')\n",
    "ax.plot((c_mean_fd % (2*np.pi))*D/(2*np.pi), c='r', lw=2)\n",
    "\n",
    "ax.xaxis.tick_bottom()\n",
    "set_plot(ax, x_label='Time', y_label='d', title=f'Speed = {spd_fd:.3f}, T = {1/spd_fd:.3f}')"
   ]
  },
  {
   "cell_type": "markdown",
   "id": "4194a2ef",
   "metadata": {},
   "source": [
    "## Compare histograms of circular mean locations"
   ]
  },
  {
   "cell_type": "code",
   "execution_count": null,
   "id": "e8f24e9d",
   "metadata": {},
   "outputs": [],
   "source": [
    "# compute histogram window over integer number of periods\n",
    "per_md = 1/spd_md*D\n",
    "look_back_md = int(round(per_md * (int(np.floor(t_max/per_md)) - 1)))\n",
    "\n",
    "per_fd = 1/spd_fd*D\n",
    "look_back_fd = int(round(per_fd * (int(np.floor(t_max/per_fd)) - 1)))\n",
    "\n",
    "print(f'Look back (mean-driven): {look_back_md}')\n",
    "print(f'Look back (fluc-driven): {look_back_fd}')"
   ]
  },
  {
   "cell_type": "code",
   "execution_count": null,
   "id": "f44b8188",
   "metadata": {},
   "outputs": [],
   "source": [
    "bins = np.linspace(-np.pi, np.pi, 2*D+1)\n",
    "fig, axs = plt.subplots(1, 2, figsize=(8, 3), tight_layout=True, sharey=True)\n",
    "axs[0].hist(c_mean_md[-look_back_md:], bins)\n",
    "axs[0].set_ylabel('# timepoints')\n",
    "axs[0].set_title('Mean-driven')\n",
    "\n",
    "axs[1].hist(c_mean_fd[-look_back_fd:], bins)\n",
    "axs[1].set_title('Fluctuation-driven')\n",
    "\n",
    "for ax in axs:\n",
    "    set_plot(ax, x_label='Circular mean')"
   ]
  },
  {
   "cell_type": "markdown",
   "id": "c6f713ea",
   "metadata": {},
   "source": [
    "## Save"
   ]
  },
  {
   "cell_type": "code",
   "execution_count": null,
   "id": "e66d611d",
   "metadata": {},
   "outputs": [],
   "source": [
    "np.save('data/seq_speed/seqs_long_full_fd.npy', np.array([{\n",
    "    'D': D,\n",
    "    \n",
    "    'ths_fd': ths_fd,\n",
    "    'c_mean_fd': c_mean_fd,\n",
    "    'spd_fd': spd_fd,\n",
    "    'look_back_fd': look_back_fd,\n",
    "}]))"
   ]
  },
  {
   "cell_type": "code",
   "execution_count": null,
   "id": "0f172b9f",
   "metadata": {},
   "outputs": [],
   "source": []
  }
 ],
 "metadata": {
  "kernelspec": {
   "display_name": "Python 3",
   "language": "python",
   "name": "python3"
  },
  "language_info": {
   "codemirror_mode": {
    "name": "ipython",
    "version": 3
   },
   "file_extension": ".py",
   "mimetype": "text/x-python",
   "name": "python",
   "nbconvert_exporter": "python",
   "pygments_lexer": "ipython3",
   "version": "3.7.10"
  }
 },
 "nbformat": 4,
 "nbformat_minor": 5
}
