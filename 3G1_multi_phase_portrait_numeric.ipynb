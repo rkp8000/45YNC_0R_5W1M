{
 "cells": [
  {
   "cell_type": "code",
   "execution_count": 1,
   "id": "75d4396f",
   "metadata": {},
   "outputs": [],
   "source": [
    "%matplotlib inline\n",
    "import matplotlib.pyplot as plt\n",
    "import numpy as np\n",
    "import os\n",
    "from scipy import stats\n",
    "import sys\n",
    "\n",
    "from disp import set_plot"
   ]
  },
  {
   "cell_type": "code",
   "execution_count": 2,
   "id": "38287fd5-40a7-4b0a-92c9-d9ce8bbb1b4f",
   "metadata": {},
   "outputs": [],
   "source": [
    "# numeric params for computing MF quantities\n",
    "DX = .05\n",
    "X_MIN = -50\n",
    "X_MAX = 50\n",
    "\n",
    "X = np.linspace(X_MIN, X_MAX, int((X_MAX-X_MIN)/DX)+1)\n",
    "\n",
    "def norm(x, mu, sgm):\n",
    "    if sgm == 0:\n",
    "        temp = np.zeros(X.shape)\n",
    "        temp[np.argmin(np.abs(X))] = 1/DX\n",
    "        return temp\n",
    "    \n",
    "    return stats.norm.pdf(x, loc=mu, scale=sgm)\n",
    "\n",
    "def phi(x, mu, sgm):\n",
    "    if sgm == 0:\n",
    "        temp = (X >= 0).astype(float)\n",
    "        temp[X == 0] = .5\n",
    "        return temp\n",
    "    \n",
    "    return stats.norm.cdf(x, loc=mu, scale=sgm)\n",
    "\n",
    "def alph(th, u, v, D, mu_j, sgm_j, N=np.inf):\n",
    "    \"\"\"\n",
    "    th \\in [0, 1]^D\n",
    "    u \\in R^D\n",
    "    v \\in R_+^D\n",
    "    D scalar\n",
    "    mu_j \\in R^{DxD}\n",
    "    sgm_j \\in R^{DxD}\n",
    "    \"\"\"\n",
    "    mu_d = D*(mu_j @ th) + u\n",
    "    sgm_d = np.sqrt(D*((sgm_j**2)@th) + v)\n",
    "    \n",
    "    phis = np.array([phi(X, mu_d_, sgm_d_) for mu_d_, sgm_d_ in zip(mu_d, sgm_d)])\n",
    "    \n",
    "    mnot_d = ~np.eye(len(th), dtype=bool) # masks for selecting all but one d\n",
    "    \n",
    "    th_next = np.nan*np.zeros(D)\n",
    "    for d, (mu_d_, sgm_d_) in enumerate(zip(mu_d, sgm_d)):\n",
    "        \n",
    "        mask_d = mnot_d[d]\n",
    "        th_next[d] = min(np.sum(norm(X, mu_d_, sgm_d_) * np.prod(phis[mask_d, :], axis=0))*DX, 1)\n",
    "        \n",
    "    if np.isinf(N):\n",
    "        return th_next\n",
    "    else:\n",
    "        return np.random.multinomial(N, th_next)/N\n",
    "    \n",
    "def get_jac(th_0, mu_j, sgm_j, eps):\n",
    "    D = len(th_0)\n",
    "    jac = np.nan*np.zeros((D, D))\n",
    "    \n",
    "    alph_0 = alph(th_0, 0, 0, D, mu_j, sgm_j)\n",
    "    \n",
    "    for d in range(D):\n",
    "        alph_d = alph(th_0 + eps*np.eye(D)[:, d], 0, 0, D, mu_j, sgm_j)\n",
    "        jac[:, d] = (alph_d-alph_0)/eps\n",
    "        \n",
    "    return jac"
   ]
  },
  {
   "cell_type": "code",
   "execution_count": 3,
   "id": "6783aee0-009f-4d93-9e68-a6bed5361597",
   "metadata": {},
   "outputs": [],
   "source": [
    "def get_lam_max(D, mu_0, mu_1, sgm_0, sgm_1, eps=1e-12):\n",
    "    \"\"\"Numeric estimate of maximum eigenvalue of MFT dynamics at central fixed point.\"\"\"\n",
    "    th_0 = np.ones(D)/D  # central fixed point\n",
    "    \n",
    "    # means\n",
    "    mu_j = np.zeros((D, D))\n",
    "    mu_j[np.eye(D, dtype=bool)] = mu_0\n",
    "    mu_j[~np.eye(D, dtype=bool)] = mu_1\n",
    "    \n",
    "    # sgms\n",
    "    sgm_j = np.zeros((D, D))\n",
    "    sgm_j[np.eye(D, dtype=bool)] = sgm_0\n",
    "    sgm_j[~np.eye(D, dtype=bool)] = sgm_1\n",
    "    \n",
    "    # estimate jacobian at th_0\n",
    "    jac = get_jac(th_0, mu_j, sgm_j, eps)\n",
    "    \n",
    "    # get eigenvalues (note that we expect a zero eigenvalue in the (1, 1, ..., 1) direction)\n",
    "    evs, evecs = np.linalg.eig(jac)\n",
    "    \n",
    "    lam_max = np.max(evs)\n",
    "    \n",
    "    return lam_max, evs, evecs"
   ]
  },
  {
   "cell_type": "code",
   "execution_count": 4,
   "id": "c459a0a6",
   "metadata": {},
   "outputs": [],
   "source": [
    "def get_active(ths, t_1):\n",
    "    ths_mn = ths[t_1:, :].mean(0)  # ppln time average\n",
    "    matv = ths_mn > np.max(ths_mn/2)  # mask over active labels\n",
    "    iatv = matv.nonzero()[0]  # idxs of active labels\n",
    "    return iatv"
   ]
  },
  {
   "cell_type": "markdown",
   "id": "83de45b1",
   "metadata": {},
   "source": [
    "## Varying $\\sigma_0/\\sigma_1$ and $D$"
   ]
  },
  {
   "cell_type": "code",
   "execution_count": 5,
   "id": "34b1622e",
   "metadata": {},
   "outputs": [
    {
     "name": "stdout",
     "output_type": "stream",
     "text": [
      "(MU_0,MU_1) (0,0)\n",
      "D\n",
      " 1 2 3 4 5 6 7 8 9 10 11 12 13 14 15 16 17 18 19 20 21 22 23 24 25 26 27 28 29 30 31 32 33 34 35 36 37 38 39 40(MU_0,MU_1) (-0.1,0)\n",
      "D\n",
      " 1 2 3 4 5 6 7 8 9 10 11 12 13 14 15 16 17 18 19 20 21 22 23 24 25 26 27 28 29 30 31 32 33 34 35 36 37 38 39 40(MU_0,MU_1) (0,-0.1)\n",
      "D\n",
      " 1 2 3 4 5 6 7 8 9 10 11 12 13 14 15 16 17 18 19 20 21 22 23 24 25 26 27 28 29 30 31 32 33 34 35 36 37 38 39 40"
     ]
    }
   ],
   "source": [
    "MU_0S = [0, -.1, 0]\n",
    "MU_1S = [0, 0, -.1]\n",
    "SGM_0 = 1\n",
    "\n",
    "DS = np.arange(1, 41)\n",
    "\n",
    "DSGM_1 = .01\n",
    "SGM_1S = np.arange(0, .25+DSGM_1, DSGM_1)\n",
    "\n",
    "lam_maxs_all = []\n",
    "\n",
    "for MU_0, MU_1 in zip(MU_0S, MU_1S):\n",
    "    print(f'(MU_0,MU_1) ({MU_0},{MU_1})')\n",
    "    lam_maxs = np.nan*np.zeros((len(DS), len(SGM_1S)))\n",
    "\n",
    "    print('D')\n",
    "    for cd, d in enumerate(DS):\n",
    "        sys.stdout.write(f' {d}')\n",
    "        for csgm_1, SGM_1 in enumerate(SGM_1S):\n",
    "            lam_maxs[cd, csgm_1] = get_lam_max(d, MU_0, MU_1, SGM_0, SGM_1)[0]\n",
    "    \n",
    "    lam_maxs_all.append(lam_maxs.copy())"
   ]
  },
  {
   "cell_type": "code",
   "execution_count": 6,
   "id": "7c729ca0",
   "metadata": {},
   "outputs": [
    {
     "data": {
      "image/png": "[encoded data removed]",
      "text/plain": [
       "<Figure size 432x180 with 2 Axes>"
      ]
     },
     "metadata": {
      "needs_background": "light"
     },
     "output_type": "display_data"
    }
   ],
   "source": [
    "fig, axs = plt.subplots(1, 2, figsize=(6, 2.5), tight_layout=True)\n",
    "axs[0].matshow(lam_maxs_all[0].T, origin='lower', extent=[.5, DS[-1] + .5, -DSGM_1/2, SGM_1S[-1]+DSGM_1/2], cmap='seismic', vmin=-1, vmax=3)\n",
    "axs[0].set_aspect('auto')\n",
    "\n",
    "labels = []\n",
    "lss = ['-', '--', '-.']\n",
    "for MU_0, MU_1, lam_maxs, ls in zip(MU_0S, MU_1S, lam_maxs_all, lss):\n",
    "    axs[1].contour(*np.meshgrid(DS, SGM_1S), lam_maxs.T, levels=[1], colors='k', linestyles=ls)\n",
    "    labels.append('$\\mu =$')# + f'{MU_0}')\n",
    "\n",
    "for ax in axs:\n",
    "    ax.xaxis.tick_bottom()\n",
    "    set_plot(ax, x_label=r'$D$', y_label=r'$(\\sigma_J)_1 \\; / \\; (\\sigma_J)_0$')\n",
    "    \n",
    "fig.savefig('figs/main/4_multi_unif_stability_portrait.svg')"
   ]
  },
  {
   "cell_type": "code",
   "execution_count": null,
   "id": "1f5a6a54-356f-4d86-a3ad-a93eecbb6e59",
   "metadata": {},
   "outputs": [],
   "source": []
  }
 ],
 "metadata": {
  "kernelspec": {
   "display_name": "Python 3 (ipykernel)",
   "language": "python",
   "name": "python3"
  },
  "language_info": {
   "codemirror_mode": {
    "name": "ipython",
    "version": 3
   },
   "file_extension": ".py",
   "mimetype": "text/x-python",
   "name": "python",
   "nbconvert_exporter": "python",
   "pygments_lexer": "ipython3",
   "version": "3.9.13"
  }
 },
 "nbformat": 4,
 "nbformat_minor": 5
}
