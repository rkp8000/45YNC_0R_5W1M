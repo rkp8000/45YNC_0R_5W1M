{
 "cells": [
  {
   "cell_type": "markdown",
   "id": "241770c1-7da2-4044-b7b2-ab29a74fecfb",
   "metadata": {},
   "source": [
    "$$x = \\sum_{j=1}^N J_j y_j = \\sum_{j \\in \\Omega(Y)} J_j$$\n",
    "\n",
    "where\n",
    "\n",
    "$$\\Omega(Y) = \\{j \\in \\{1, \\dots N\\} | y_j = 1\\}$$\n",
    "\n",
    "is the set of indices where $y_j = 1$, since all other $y_j = 0$, and \n",
    "\n",
    "$$|\\Omega(Y)| = \\sum_{j=1}^N y_j = n_d.$$\n",
    "\n",
    "$$Y \\equiv \\{y_j\\} \\sim P(\\{y_j\\})$$\n",
    "\n",
    "$$J_j \\sim \\mathcal{N}(\\mu_J, \\sigma_J^2)$$\n",
    "\n",
    "$$\\mu_d(J) = \\langle x \\rangle_Y$$\n",
    "\n",
    "$$\\sigma_d^2(J) = \\langle x^2 \\rangle_Y - \\langle x \\rangle_Y^2.$$\n",
    "\n",
    "\n",
    "We want to calculate\n",
    "\n",
    "$$\\langle \\mu_d \\rangle_J, \\quad \\langle \\sigma_d^2 \\rangle_J$$\n"
   ]
  },
  {
   "cell_type": "markdown",
   "id": "48f71464-a7c0-4962-9c70-4fdf1aec1b29",
   "metadata": {},
   "source": [
    "$$\n",
    "\\langle \\mu_d \\rangle_J = \n",
    "\\bigg \\langle \\bigg \\langle \\sum_{j \\in \\Omega} J_j \\bigg \\rangle_Y \\bigg \\rangle_J\n",
    "= \\bigg \\langle \\sum_{j \\in \\Omega} \\big \\langle J_j \\big \\rangle_J \\bigg \\rangle_Y\n",
    "= \\big \\langle n_d \\mu_J \\big \\rangle_Y = n_d \\mu_J\n",
    "$$"
   ]
  },
  {
   "cell_type": "markdown",
   "id": "51acc9fd-f4e8-4646-b292-428d9fccf292",
   "metadata": {},
   "source": [
    "For the variance"
   ]
  },
  {
   "cell_type": "markdown",
   "id": "e21ad81c-a26a-4ac2-ad75-67a2bf6cf52c",
   "metadata": {},
   "source": [
    "$$\n",
    "\\langle \\sigma_d^2 \\rangle_J\n",
    "=\n",
    "\\bigg \\langle \\left( \\sum_{j \\in \\Omega(Y)} J_j \\right)^2 \\bigg \\rangle_Y\n",
    "- \\bigg \\langle \\sum_{j \\in \\Omega(Y)} J_j \\bigg \\rangle_Y^2\n",
    "\\bigg \\rangle_J\n",
    "$$"
   ]
  },
  {
   "cell_type": "markdown",
   "id": "8d0c560e-c6d5-4873-99a9-877f4d73b54e",
   "metadata": {},
   "source": [
    "$$\n",
    "= \n",
    "\\bigg \\langle\n",
    "\\bigg \\langle \\sum_{j \\in \\Omega} J_j^2 + \\sum_{j \\in \\Omega} \\sum_{j' \\neq j \\in \\Omega} J_j J_{j'} \\bigg \\rangle_Y\n",
    "- \\mu_d(J)^2\n",
    "\\bigg \\rangle_J\n",
    "$$"
   ]
  },
  {
   "cell_type": "markdown",
   "id": "53b023eb-dbcb-4633-8cc4-fbc83da090f4",
   "metadata": {},
   "source": [
    "$$\n",
    "= \\bigg \\langle\n",
    "\\sum_{j \\in \\Omega} \\big \\langle J_j^2 \\big \\rangle_J\n",
    "+ \\sum_{j \\in \\Omega} \\sum_{j' \\neq j \\in \\Omega} \\bigg \\langle J_j J_{j'} \\bigg \\rangle_J\n",
    "\\bigg \\rangle_Y\n",
    "- \\big \\langle \\mu_d(J)^2 \\big \\rangle_J\n",
    "$$"
   ]
  },
  {
   "cell_type": "markdown",
   "id": "ff664236-8ef5-4aab-9d90-fea722819ae9",
   "metadata": {},
   "source": [
    "$$\n",
    "= \\bigg \\langle\n",
    "n_d (\\sigma_J^2 + \\mu_J^2) + \n",
    "\\sum_{j\\in \\Omega} \\sum_{j' \\in \\Omega} \\big \\langle J_j \\big \\rangle_J \\big \\langle J_{j'} \\big \\rangle_J\n",
    "\\bigg \\rangle_Y\n",
    "- \\big \\langle \\mu_d(J)^2 \\big \\rangle_J\n",
    "$$"
   ]
  },
  {
   "cell_type": "markdown",
   "id": "03ded129-f93e-40cb-aad7-68e1dbb082b3",
   "metadata": {},
   "source": [
    "$$ = \\bigg \\langle\n",
    "n_d \\left(\\sigma_J^2 + \\mu_J^2\\right)\n",
    "+ n_d(n_d-1)\\mu_J^2\n",
    "\\bigg \\rangle_Y\n",
    "- \\big \\langle \\mu_d(J)^2 \\big \\rangle_J\n",
    "$$"
   ]
  },
  {
   "cell_type": "markdown",
   "id": "cfca2a33-22a8-4b21-902b-ac4f7e77bd8b",
   "metadata": {},
   "source": [
    "$$\n",
    "=\n",
    "n_d \\left(\\sigma_J^2 + \\mu_J^2\\right)\n",
    "+ n_d(n_d-1)\\mu_J^2\n",
    "- \\big \\langle \\mu_d(J)^2 \\big \\rangle_J\n",
    "$$"
   ]
  },
  {
   "cell_type": "markdown",
   "id": "b821257b-4b01-4e18-8def-eebc37e0aee8",
   "metadata": {},
   "source": [
    "$$\n",
    "= n_d \\sigma_J^2 + \\left(n_d\\mu_J \\right)^2\n",
    "- \\big \\langle \\mu_d(J)^2 \\big \\rangle_J\n",
    "$$"
   ]
  },
  {
   "cell_type": "code",
   "execution_count": null,
   "id": "2d7f5755-baab-4c42-9a7e-c0d61972e77a",
   "metadata": {},
   "outputs": [],
   "source": []
  }
 ],
 "metadata": {
  "kernelspec": {
   "display_name": "Python 3 (ipykernel)",
   "language": "python",
   "name": "python3"
  },
  "language_info": {
   "codemirror_mode": {
    "name": "ipython",
    "version": 3
   },
   "file_extension": ".py",
   "mimetype": "text/x-python",
   "name": "python",
   "nbconvert_exporter": "python",
   "pygments_lexer": "ipython3",
   "version": "3.9.13"
  }
 },
 "nbformat": 4,
 "nbformat_minor": 5
}
