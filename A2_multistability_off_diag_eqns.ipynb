{
 "cells": [
  {
   "cell_type": "markdown",
   "id": "fbb20b3d",
   "metadata": {},
   "source": [
    "# Mean field analysis of image dynamics with off-diagonal interactions"
   ]
  },
  {
   "cell_type": "markdown",
   "id": "79672a7a",
   "metadata": {},
   "source": [
    "In the $g \\rightarrow \\infty$ limit, the current macrostate $\\Theta$ is mapped to the next macrostate via \n",
    "\n",
    "$$\\Theta \\sim \\frac{1}{N} \\textrm{Multinomial}(N, \\boldsymbol{\\alpha}(\\Theta))$$\n",
    "\n",
    "or equivalently\n",
    "\n",
    "$$\\Theta^{t+1} = \\boldsymbol{\\alpha}(\\Theta^t) + \\eta$$\n",
    "\n",
    "We can study the dynamics of this system by examining the map $\\boldsymbol{\\alpha}: \\Theta^{R-1} \\rightarrow \\Theta^{R-1}$, where\n",
    "\n",
    "$$\\alpha_r(\\Theta) = p(\\textrm{argmax}_{r'} x_{r'} = x_r)$$\n",
    "\n",
    "$R\\Theta_r = N\\Theta_r (R/N)$ is the variance of the sum of $N \\Theta_r$ random normal variables with individual variances $R/N$ (the synaptic weight variance)."
   ]
  },
  {
   "cell_type": "markdown",
   "id": "1a2a2ec0",
   "metadata": {},
   "source": [
    "At the central fixed point $\\Theta^* \\equiv \\mathbf{1}/R$\n",
    "\n",
    "$$\\mathbf{1}^TJ^\\boldsymbol{\\alpha}(\\Theta^*)\\mathbf{1} = 0$$\n",
    "\n",
    "since $\\mathbf{1}$ is a direction off the simplex with no bias towards any coordinate axis. Thus, since $\\boldsymbol{\\alpha}$ maps everything back to the simplex the only place it can return to is $\\Theta^*$, so $\\mathbf{1}$ is an eigenvector of $J^\\alpha$ with eigenvalue 0.\n",
    "\n",
    "Moreover, every direction from $\\Theta$ that remains on the simplex is an eigenvector of $J^\\alpha(\\Theta^*)$, since movement towards any coordinate axis only be shrunk or dilated, otherwise it would break the symmetry of the Jacobian, and they must all have the same eigenvalue, also by symmetry.\n",
    "\n",
    "So if $\\hat{\\mathbf{r}}$ is a $r$-dimensional unit vector lying on the $R-1$ standard simplex, i.e. orthogonal to $\\mathbf{1}$, then \n",
    "\n",
    "$$\\hat{\\mathbf{u}}^T J^\\boldsymbol{\\alpha}(\\Theta^*) \\hat{\\mathbf{u}} = \\textrm{Tr}\\left[J^\\boldsymbol{\\alpha}(\\Theta^*)\\right]\\big/(R-1) = \\frac{R}{R-1}J^\\boldsymbol{\\alpha}_{rr} = \\lambda^*$$\n",
    "\n",
    "where $\\lambda$ is the eigenvalue associated with movement along the simplex in the neighborhood of $\\Theta^*$."
   ]
  },
  {
   "cell_type": "markdown",
   "id": "eb48855f",
   "metadata": {},
   "source": [
    "# General case"
   ]
  },
  {
   "cell_type": "markdown",
   "id": "14dc0493",
   "metadata": {},
   "source": [
    "Diagonal (within-cluster) interactions:\n",
    "\n",
    "$$W_{ij} \\sim \\mathcal{N}\\left(W_{ij}; \\mu_0\\frac{R}{N}, \\frac{R}{N}\\right).$$\n",
    "\n",
    "Off-diagonal (between-cluster) interactions:\n",
    "\n",
    "$$W'_{ij} \\sim \\mathcal{N}\\left(W'_{ij}; \\mu_1\\frac{R}{N}, \\gamma_1 \\frac{R}{N}\\right).$$\n",
    "\n",
    "Let \n",
    "\n",
    "$$\\Theta^t = \\frac{1}{N} \\sum_{r=1}^N \\mathbf{y}^t_d$$\n",
    "\n",
    "be the *image* at time $t$."
   ]
  },
  {
   "cell_type": "markdown",
   "id": "ddacdeb7",
   "metadata": {},
   "source": [
    "Then the macroscopic dynamics are, in the $N \\to \\infty$ limit,\n",
    "\n",
    "$$\\Theta^{t+1} = \\boldsymbol{\\alpha}\\left(\\Theta^t\\right)$$\n",
    "\n",
    "where\n",
    "\n",
    "$$\\alpha_r = \\int_{x_r}P(x_r)P(x_1 \\leq x_r, x_2 \\leq x_r, \\dots, x_R \\leq x_r|x_r) =\n",
    "\\int_{x_r}\\mathcal{N}\\left(x_r; \\mu_r, \\sigma^2_r\\right) \\prod_{r'\\neq r} \\Phi\\left(x_r; \\mu_{r'}, \\sigma^2_{r'}\\right)$$"
   ]
  },
  {
   "cell_type": "markdown",
   "id": "240ffde7",
   "metadata": {},
   "source": [
    "where $\\mu_r, \\sigma^2_r$ are the mean and variance of the inputs to a neuron in cluster $r$ and $\\mu_{r'}, \\sigma^2_{r'}$ to a neuron in cluster $r'$. The mean input to cluster $r$ is \n",
    "\n",
    "$$\\mu_r = \\mu_0R\\Theta^t_r + \\mu_1R(1-\\Theta^t_r) = R[\\mu_1 + (\\mu_0 - \\mu_1)\\Theta^t_r] = R\\mu_1 + R(\\mu_0 - \\mu_1)\\Theta^t_r$$ \n",
    "\n",
    "since it is the mean of the sum of $N\\Theta^t_r$ inputs of size $\\mu_0R/N$ from within its cluster and $N(1-\\Theta^t_r)$ inputs of size $\\mu_1R/N$ from other clusters, and similarly the variance\n",
    "\n",
    "$$\\sigma^2_r = R\\Theta^t_r + \\gamma_1 R (1-\\Theta^t_r) = R[\\gamma_1 + (1-\\gamma_1)\\Theta^t] = R\\gamma_1 + R(1-\\gamma_1)\\Theta^t.$$\n"
   ]
  },
  {
   "cell_type": "markdown",
   "id": "c6170f98",
   "metadata": {},
   "source": [
    "### Jacobian diagonal elements\n",
    "\n",
    "We would like to find\n",
    "\n",
    "$$J^\\alpha_{rr} = \\frac{d\\alpha_r}{d\\Theta_r} = \\frac{d}{d\\Theta_r} \\int dx_r \\mathcal{N}\\left(x_r; R(\\mu_0 - \\mu_1)\\Theta_r + R\\mu_1, R(1-\\gamma_1)\\Theta_r + R\\gamma_1 \\right)\n",
    "\\prod_{r'\\neq r} \\Phi\\left(x_r; R(\\mu_0 - \\mu_1)\\Theta_{r'} + R\\mu_1, R(1-\\gamma_1)\\Theta_{r'} + R\\gamma_1\\right)$$"
   ]
  },
  {
   "cell_type": "markdown",
   "id": "d6f81fa0",
   "metadata": {},
   "source": [
    "First let's rescale the x-axis so that the variance is $\\mathcal{O}(1)$ instead of $\\mathcal{O}(R)$. Let $x_r = \\sqrt{R}u_r$ and $dx_r = \\sqrt{R}du_r$:\n",
    "\n",
    "$$J^\\alpha = \\frac{d}{d\\Theta_r}\n",
    "\\int du_r \\sqrt{R} \\mathcal{N}(\\sqrt{R}u_r; R(\\mu_0 - \\mu_1)\\Theta_r + R\\mu_1, R(1-\\gamma_1)\\Theta_r + R\\gamma_1)\n",
    "\\prod_{r'\\neq r} \\Phi\\left(\\sqrt{R}u_r; R(\\mu_0 - \\mu_1)\\Theta_{r'} + R\\mu_1, R(1-\\gamma_1)\\Theta_{r'} + R\\gamma_1\\right)$$"
   ]
  },
  {
   "cell_type": "markdown",
   "id": "46b8fdb5",
   "metadata": {},
   "source": [
    "Then\n",
    "\n",
    "$$J^\\alpha = \\frac{d}{d\\Theta_r}\n",
    "\\int dx_r \\mathcal{N}(x_r; \\sqrt{R}(\\mu_0 - \\mu_1)\\Theta_r + \\sqrt{R}\\mu_1, (1-\\gamma_1)\\Theta_r + \\gamma_1)\n",
    "\\prod_{r'\\neq r} \\Phi\\left(x_r; \\sqrt{R}(\\mu_0 - \\mu_1)\\Theta_{r'} + \\sqrt{R}\\mu_1, (1-\\gamma_1)\\Theta_{r'} + \\gamma_1\\right)$$\n",
    "\n",
    "where we've changed our variable name back to $x_r$ again."
   ]
  },
  {
   "cell_type": "markdown",
   "id": "8bde4947",
   "metadata": {},
   "source": [
    "$$J^\\alpha_{rr} = \\frac{d\\alpha_r}{d\\Theta_r} =  \\int dx_r \\frac{d}{d\\Theta_r}\\mathcal{N}\\left(x_r; \\sqrt{R}(\\mu_0 - \\mu_1)\\Theta_r + \\sqrt{R}\\mu_1, (1-\\gamma_1)\\Theta_r + \\gamma_1 \\right) \\prod_{r'\\neq r} \\Phi\\left(x_r; \\sqrt{R}(\\mu_0 - \\mu_1)\\Theta_{r'} + \\sqrt{R}\\mu_1, (1-\\gamma_1)\\Theta_{r'} + \\gamma_1\\right)$$"
   ]
  },
  {
   "cell_type": "markdown",
   "id": "87f92355",
   "metadata": {},
   "source": [
    "Using the identity\n",
    "\n",
    "$$\n",
    "\\frac{d}{dz}\\mathcal{N}(x; az + b, cz + d)  = \n",
    "\\left[\n",
    "Ax^2 + Bx + C\n",
    "\\right]\\mathcal{N}(x; az + b, cz + d)\n",
    "$$\n",
    "\n",
    "$$\n",
    "A = \\frac{c}{2(cz+d)^2}\\quad \\quad B = \\frac{ad - bc}{(cz+d)^2}\n",
    "\\quad \\quad\n",
    "C = \\frac{b^2c - a^2cz^2 - 2a^2dz - 2abd - c^2z - cd}{2(cz+d)^2}\n",
    "$$\n",
    "\n",
    "and associating\n",
    "\n",
    "$$z \\to \\Theta_r \\quad \\quad a = \\sqrt{R}(\\mu_0-\\mu_1)\\quad \\quad b = \\sqrt{R}\\mu_1 \\quad \\quad c = (1-\\gamma_1) \\quad \\quad d = \\gamma_1$$\n",
    "\n",
    "we have"
   ]
  },
  {
   "cell_type": "markdown",
   "id": "0702b6e2",
   "metadata": {},
   "source": [
    "$$\n",
    "\\frac{d}{d\\Theta_r}\\mathcal{N}\\left(x_r; \\sqrt{R}(\\mu_0 - \\mu_1)\\Theta_r + \\sqrt{R}\\mu_1, (1-\\gamma_1)\\Theta_r + \\gamma_1 \\right)\n",
    "$$\n",
    "\n",
    "$$\n",
    "=\n",
    "\\left[\n",
    "Ax^2 + Bx + C\n",
    "\\right]\\mathcal{N}\\left(x_r; \\sqrt{R}(\\mu_0 - \\mu_1)\\Theta_r + \\sqrt{R}\\mu_1, (1-\\gamma_1)\\Theta_r + \\gamma_1 \\right)\n",
    "$$"
   ]
  },
  {
   "cell_type": "markdown",
   "id": "2e9d7dc1",
   "metadata": {},
   "source": [
    "So \n",
    "\n",
    "$$\n",
    "J^\\alpha_{rr} = \n",
    "A\\int dx_r x^2\\mathcal{N}\\left(x_r; \\sqrt{R}(\\mu_0 - \\mu_1)\\Theta_r + \\sqrt{R}\\mu_1, (1-\\gamma_1)\\Theta_r + \\gamma_1 \\right) \\prod_{r'\\neq r} \\Phi\\left(x_r; \\sqrt{R}(\\mu_0 - \\mu_1)\\Theta_{r'} + \\sqrt{R}\\mu_1, (1-\\gamma_1)\\Theta_{r'} + \\gamma_1\\right)\\\\\n",
    "+ B\\int dx_r x\\mathcal{N}\\left(x_r; \\sqrt{R}(\\mu_0 - \\mu_1)\\Theta_r + \\sqrt{R}\\mu_1, (1-\\gamma_1)\\Theta_r + \\gamma_1 \\right) \\prod_{r'\\neq r} \\Phi\\left(x_r; \\sqrt{R}(\\mu_0 - \\mu_1)\\Theta_{r'} + \\sqrt{R}\\mu_1, (1-\\gamma_1)\\Theta_{r'} + \\gamma_1\\right)\\\\\n",
    "+ C\\int dx_r \\mathcal{N}\\left(x_r; \\sqrt{R}(\\mu_0 - \\mu_1)\\Theta_r + \\sqrt{R}\\mu_1, (1-\\gamma_1)\\Theta_r + \\gamma_1 \\right) \\prod_{r'\\neq r} \\Phi\\left(x_r; \\sqrt{R}(\\mu_0 - \\mu_1)\\Theta_{r'} + \\sqrt{R}\\mu_1, (1-\\gamma_1)\\Theta_{r'} + \\gamma_1\\right)\\\\\n",
    "$$"
   ]
  },
  {
   "cell_type": "markdown",
   "id": "7d8579b6",
   "metadata": {},
   "source": [
    "Evaluated at $\\Theta^* = \\boldsymbol{1}/R$:\n",
    "\n",
    "$$\n",
    "J^{\\alpha}_{rr}(\\Theta^*) = \n",
    "A\\int dx_r x^2\\mathcal{N}\\left(x_r; \\mu^*, v^* \\right) \\Phi\\left(x_r; \\mu^*, v^* \\right)^{R-1}\n",
    "+ B\\int dx_r x\\mathcal{N}\\left(x_r; \\mu^*, v^* \\right) \\Phi\\left(x_r; \\mu^*, v^* \\right)^{R-1}\n",
    "+ C\\int dx_r\\mathcal{N}\\left(x_r; \\mu^*, v^* \\right) \\Phi\\left(x_r; \\mu^*, v^* \\right)^{R-1}\n",
    "$$\n",
    "\n",
    "where\n",
    "\n",
    "$$\\mu^* = \\frac{\\mu_0 - \\mu_1}{\\sqrt{R}} + \\sqrt{R}\\mu_1 \\quad \\quad v^* = \\frac{1-\\gamma_1}{R} + \\gamma_1$$"
   ]
  },
  {
   "cell_type": "markdown",
   "id": "4862a610",
   "metadata": {},
   "source": [
    "The last term simplifies, since it is just the probability of one of $R$ i.i.d. Gaussian RVs being larger than $R-1$ other Gaussian RVs, so:"
   ]
  },
  {
   "cell_type": "markdown",
   "id": "c4c41f3a",
   "metadata": {},
   "source": [
    "$$\n",
    "J^{\\alpha}_{rr}(\\Theta^*) = \n",
    "A\\int dx_r x^2\\mathcal{N}\\left(x_r; \\mu^*, v^* \\right) \\Phi\\left(x_r; \\mu^*, v^* \\right)^{R-1}\n",
    "+ B\\int dx_r x\\mathcal{N}\\left(x_r; \\mu^*, v^* \\right) \\Phi\\left(x_r; \\mu^*, v^* \\right)^{R-1}\n",
    "+ \\frac{C}{R}\n",
    "$$"
   ]
  },
  {
   "cell_type": "markdown",
   "id": "67a9145c",
   "metadata": {},
   "source": [
    "So the max eigenvalue of the Jacobian $J^\\alpha(\\Theta^*)$ is\n",
    "\n",
    "$$\\lambda^*(R, \\mu_0, \\mu_1, \\gamma) = \\frac{R}{R-1}\\left[ \n",
    "A\\Gamma_2(R, \\mu^*, v^*) + B\\Gamma_1(R, \\mu^*, v^*) + \\frac{C}{R}\n",
    "\\right]$$"
   ]
  },
  {
   "cell_type": "markdown",
   "id": "783979d2",
   "metadata": {},
   "source": [
    "where\n",
    "\n",
    "$$\\Gamma_2(R, \\mu^*, v*) = \n",
    "\\int dx_r x^2\\mathcal{N}\\left(x_r; \\mu^*, v^* \\right) \\Phi\\left(x_r; \\mu^*, v^* \\right)^{R-1}\n",
    "\\quad \\quad \\quad\n",
    "\\Gamma_1(R, \\mu^*, v*) = \n",
    "\\int dx_r x\\mathcal{N}\\left(x_r; \\mu^*, v^* \\right) \\Phi\\left(x_r; \\mu^*, v^* \\right)^{R-1}\n",
    "$$\n",
    "\n",
    "$$\\mu^* = \\frac{\\mu_0 - \\mu_1}{\\sqrt{R}} + \\sqrt{R}\\mu_1 \\quad \\quad v^* = \\frac{1-\\gamma_1}{R} + \\gamma_1$$\n",
    "\n",
    "$$\n",
    "A = \\frac{c}{2(c/R+d)^2}\\quad \\quad B = \\frac{ad - bc}{(c/R+d)^2}\n",
    "\\quad \\quad\n",
    "C = \\frac{b^2c - a^2c/R^2- 2a^2d/R - 2abd - c^2/R - cd}{2(c/R+d)^2}\n",
    "$$\n",
    "\n",
    "$$\n",
    "a = \\sqrt{R}(\\mu_0-\\mu_1)\\quad \\quad b = \\sqrt{R}\\mu_1 \\quad \\quad c = (1-\\gamma_1) \\quad \\quad d = \\gamma_1\n",
    "$$"
   ]
  },
  {
   "cell_type": "markdown",
   "id": "413c6164",
   "metadata": {},
   "source": [
    "Note that when $\\mu_1 = \\gamma_1 = 0$ (no off-diagonal interactions), then\n",
    "\n",
    "$$a = \\sqrt{R}\\mu_0, c= 1, b=d=0$$\n",
    "\n",
    "and\n",
    "\n",
    "$$A = \\frac{R^2}{2}, \\quad \\quad B = 0 \\quad \\quad C = -R\\frac{\\mu_0^2 + 1}{2}$$"
   ]
  },
  {
   "cell_type": "markdown",
   "id": "6eef03b9",
   "metadata": {},
   "source": [
    "so \n",
    "\n",
    "$$\\lambda^* = \\frac{R}{R-1}\\left[\\frac{R^2}{2}\\Gamma_2(R, \\mu_0/\\sqrt{R}, 1/R) - \\frac{\\mu_0^2+1}{2}\\right]$$"
   ]
  },
  {
   "cell_type": "markdown",
   "id": "c5f4a1a1",
   "metadata": {},
   "source": [
    "recovering the case with purely diagonal interactions."
   ]
  },
  {
   "cell_type": "code",
   "execution_count": 1,
   "id": "bfcf16cc",
   "metadata": {},
   "outputs": [],
   "source": [
    "%matplotlib inline\n",
    "import matplotlib.pyplot as plt\n",
    "import numpy as np\n",
    "from scipy import stats\n",
    "\n",
    "\n",
    "DX = .0005\n",
    "X_MIN, X_MAX = -6, 30\n",
    "X = np.linspace(X_MIN, X_MAX, int((X_MAX-X_MIN)/DX)+1)\n",
    "\n",
    "def norm(x, mu, var):\n",
    "    return stats.norm.pdf(x, loc=mu, scale=np.sqrt(var))\n",
    "\n",
    "def phi(x, mu, var):\n",
    "    return stats.norm.cdf(x, loc=mu, scale=np.sqrt(var))\n",
    "\n",
    "def gamma_2(r, mu, v):\n",
    "    return DX*np.sum(X**2*norm(X, mu, v)*phi(X, mu, v)**(r-1))\n",
    "\n",
    "def gamma_1(r, mu, v):\n",
    "    return DX*np.sum(X*norm(X, mu, v)*phi(X, mu, v)**(r-1))\n",
    "\n",
    "def get_lam_star(r, mu_0, mu_1, gam_1):\n",
    "    a = np.sqrt(r)*(mu_0 - mu_1)\n",
    "    b = np.sqrt(r)*mu_1\n",
    "    c = 1 - gam_1\n",
    "    d = gam_1\n",
    "    \n",
    "    mu_star = a/r + b\n",
    "    v_star = c/r + d\n",
    "    \n",
    "    aa = c/(2*(c/r + d)**2)\n",
    "    bb = (a*d - b*c)/(c/r + d)**2\n",
    "    cc = (b**2*c - a**2*c/r**2 - 2*a**2*d/r - 2*a*b*d - c**2/r - c*d)/(2*(c/r + d)**2)\n",
    "    \n",
    "    return r/(r-1) * (aa * gamma_2(r, mu_star, v_star) + bb * gamma_1(r, mu_star, v_star) + cc/r)"
   ]
  },
  {
   "cell_type": "code",
   "execution_count": 2,
   "id": "60739442",
   "metadata": {},
   "outputs": [
    {
     "data": {
      "image/png": "[encoded data removed]",
      "text/plain": [
       "<Figure size 1152x216 with 4 Axes>"
      ]
     },
     "metadata": {
      "needs_background": "light"
     },
     "output_type": "display_data"
    }
   ],
   "source": [
    "fig, axs = plt.subplots(1, 4, figsize=(16, 3), tight_layout=True)\n",
    "\n",
    "mu = 20\n",
    "v = 1\n",
    "\n",
    "for r in [2, 5, 10, 20, 200]:\n",
    "    axs[0].plot(X, norm(X, mu, v))\n",
    "    axs[1].plot(X, phi(X, mu, v))\n",
    "    axs[2].plot(X, X**2*norm(X, mu, v)*phi(X, mu, v)**(r-1))\n",
    "    axs[3].plot(X, X*norm(X, mu, v)*phi(X, mu, v)**(r-1))\n",
    "    \n",
    "axs[0].set_title(r'Normal PDF $\\mathcal{N}$')\n",
    "axs[1].set_title(r'Cumulative PDF $\\Phi$')\n",
    "axs[2].set_title(r'$\\Gamma 2$ integrand')\n",
    "axs[3].set_title(r'$\\Gamma 1$ integrand')\n",
    "\n",
    "for ax in axs:\n",
    "    ax.set_xlabel('x')"
   ]
  },
  {
   "cell_type": "code",
   "execution_count": 32,
   "id": "919eb574",
   "metadata": {},
   "outputs": [],
   "source": [
    "rs = np.arange(2, 200)\n",
    "mu_0s = np.array([.2, 0, -.15, -.25, -.5, -.75])\n",
    "\n",
    "lam_stars = np.nan * np.zeros((len(mu_0s), len(rs)))\n",
    "for cmu_0, mu_0 in enumerate(mu_0s):\n",
    "    for cr, r in enumerate(rs):\n",
    "        lam_stars[cmu_0, cr] = get_lam_star(r, mu_0, 0, .1**2)"
   ]
  },
  {
   "cell_type": "code",
   "execution_count": 33,
   "id": "2a527382",
   "metadata": {},
   "outputs": [
    {
     "data": {
      "image/png": "[encoded data removed]",
      "text/plain": [
       "<Figure size 504x288 with 1 Axes>"
      ]
     },
     "metadata": {
      "needs_background": "light"
     },
     "output_type": "display_data"
    }
   ],
   "source": [
    "from disp import set_plot\n",
    "\n",
    "fig, ax = plt.subplots(1, 1, figsize=(7, 4))\n",
    "for mu_0, lam_star in zip(mu_0s, lam_stars):\n",
    "    ax.plot(rs, lam_star, lw=2)\n",
    "ax.legend([rf'$\\mu_0 = {mu_0}$' for mu_0 in mu_0s], ncol=3, loc='upper left')\n",
    "ax.axhline(1, ls='--', color='k')\n",
    "\n",
    "set_plot(ax, y_lim=(-.5, 3), x_label='R', y_label=r'$\\lambda^*$', font_size=14)"
   ]
  },
  {
   "cell_type": "code",
   "execution_count": null,
   "id": "f2686127-56b2-4a7e-a814-bc30cee318d0",
   "metadata": {},
   "outputs": [],
   "source": []
  }
 ],
 "metadata": {
  "kernelspec": {
   "display_name": "Python 3 (ipykernel)",
   "language": "python",
   "name": "python3"
  },
  "language_info": {
   "codemirror_mode": {
    "name": "ipython",
    "version": 3
   },
   "file_extension": ".py",
   "mimetype": "text/x-python",
   "name": "python",
   "nbconvert_exporter": "python",
   "pygments_lexer": "ipython3",
   "version": "3.9.13"
  }
 },
 "nbformat": 4,
 "nbformat_minor": 5
}
