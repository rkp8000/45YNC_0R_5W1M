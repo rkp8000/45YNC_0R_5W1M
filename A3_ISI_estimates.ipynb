{
 "cells": [
  {
   "cell_type": "markdown",
   "id": "06d47fb5-2516-4583-aeb3-47c1d03dc0e0",
   "metadata": {},
   "source": [
    "For non-stationary signals we estimate the ISI CV in a local manner, following Holt et al 1996 and Compte et al 2003:"
   ]
  },
  {
   "cell_type": "markdown",
   "id": "bd60da71-dcac-4102-9524-fedf89721f1a",
   "metadata": {},
   "source": [
    "$$\\langle CV_2 \\rangle = \\frac{1}{N-1} \\sum_n CV_2(n)$$\n",
    "\n",
    "where the sum is over all $N-1$ ISIs, indexed by $n$, and\n",
    "\n",
    "$$CV_2(n) = 2\\frac{|\\text{ISI}_{n+1} - \\text{ISI}_n|}{\\text{ISI}_{n+1} + \\text{ISI}_n}$$\n",
    "\n",
    "This has the property that $\\langle CV_2 \\rangle = 1$ for an inhomogeneous Poisson process."
   ]
  },
  {
   "cell_type": "code",
   "execution_count": 53,
   "id": "9fcabc6a-d25c-4395-9a2f-5f86864ec06c",
   "metadata": {},
   "outputs": [],
   "source": [
    "import matplotlib.pyplot as plt\n",
    "import numpy as np\n",
    "\n",
    "def get_isi_cv_2(spikes):\n",
    "    tspks = np.nonzero(spikes)[0]\n",
    "    isis = np.diff(tspks)\n",
    "    \n",
    "    cv_2s = 2*np.abs(isis[1:] - isis[:-1])/(isis[1:] + isis[:-1])\n",
    "    \n",
    "    return np.sum(cv_2s)/(len(isis) - 1)"
   ]
  },
  {
   "cell_type": "code",
   "execution_count": 54,
   "id": "6fc2b2f3-ceb0-4578-a757-c897a349ec01",
   "metadata": {},
   "outputs": [
    {
     "data": {
      "text/plain": [
       "0.9908451681493123"
      ]
     },
     "execution_count": 54,
     "metadata": {},
     "output_type": "execute_result"
    }
   ],
   "source": [
    "n = int(1e7)\n",
    "spikes = np.random.rand(n) < np.linspace(0, .01, n)\n",
    "get_isi_cv_2(spikes)"
   ]
  }
 ],
 "metadata": {
  "kernelspec": {
   "display_name": "Python 3 (ipykernel)",
   "language": "python",
   "name": "python3"
  },
  "language_info": {
   "codemirror_mode": {
    "name": "ipython",
    "version": 3
   },
   "file_extension": ".py",
   "mimetype": "text/x-python",
   "name": "python",
   "nbconvert_exporter": "python",
   "pygments_lexer": "ipython3",
   "version": "3.9.13"
  }
 },
 "nbformat": 4,
 "nbformat_minor": 5
}
