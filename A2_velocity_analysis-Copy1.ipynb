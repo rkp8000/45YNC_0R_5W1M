{
 "cells": [
  {
   "cell_type": "markdown",
   "id": "93a70f5b-434a-4699-9a06-bbdb9f424949",
   "metadata": {},
   "source": [
    "# Analysis of mean- and fluctuation-driven contributions to trajectory velocity"
   ]
  },
  {
   "cell_type": "markdown",
   "id": "11c1af70-1815-4345-85a0-60a52741f0aa",
   "metadata": {
    "tags": []
   },
   "source": [
    "$$\\Theta^{t+1} = \\left[\\alpha_1(\\Theta^t), \\dots, \\alpha_R(\\Theta^t)\\right]^T$$\n",
    "\n",
    "$$\\alpha_r = \n",
    "\\int_{x}\\mathcal{N}\\left(x; \\mu_r, \\sigma_r\\right) \\prod_{r'\\neq r} \\Phi\\left(x; \\mu_{r'}, \\sigma_{r'}\\right)$$\n",
    "\n",
    "$$\\mu_r = R \\sum_{r'} \\mu_{rr'} \\Theta_{r'}^t + u_r^t$$\n",
    "\n",
    "$$\\sigma^2_r = R \\sum_{r'} \\gamma_{rr'}^2 \\Theta_{r'}^t + v_r^t$$"
   ]
  },
  {
   "cell_type": "markdown",
   "id": "1981e339-b11c-4235-a088-74c5a332dc64",
   "metadata": {},
   "source": [
    "The velocity of a trajectory at time $t$ is given by"
   ]
  },
  {
   "cell_type": "markdown",
   "id": "77b83123-e0df-42a3-af0f-f7efa3cf638e",
   "metadata": {},
   "source": [
    "$$\\mathbf{V}^t = \\Theta^{t+1} - \\Theta^t$$\n",
    "\n",
    "which we can decompose into mean- and fluctuation-driven terms:\n",
    "\n",
    "$$\\mathbf{V}^t = \\mathbf{V}_{\\mu}^t + \\mathbf{V}_{\\sigma}^t$$"
   ]
  },
  {
   "cell_type": "markdown",
   "id": "b9dfd1e0-2512-4663-8452-29110df20b82",
   "metadata": {},
   "source": [
    "where $\\mathbf{V}_{\\mu}^t$ is the velocity component associated with the mean drive $\\{\\mu_r\\}$, i.e. when $\\sigma_r^2 = 0 \\; \\forall r$ and  $\\mathbf{V}_{\\sigma}^t$ is defined by\n",
    "\n",
    "$$\\mathbf{V}_{\\sigma}^t = \\mathbf{V}^t - \\mathbf{V}_{\\mu}^t = \\Theta^{t+1} - \\Theta^t - \\mathbf{V}_{\\mu}^t$$"
   ]
  },
  {
   "cell_type": "markdown",
   "id": "113d0e61-000c-4093-ba04-b72eca85cfd5",
   "metadata": {},
   "source": [
    "The mean-driven term is given by\n",
    "\n",
    "$$\n",
    "\\left(\\mathbf{V}_{\\mu}^t\\right)_r = \\int_x \\mathcal{N}(x; \\mu_r, 0)\\prod_{r' \\neq r} \\Phi(x; \\mu_{r'}, 0) - \\Theta_r^t\n",
    "= \\mathbb{1}\\left[\\mu_r \\geq \\mu_1, \\dots, \\mu_r \\geq \\mu_R\\right] - \\Theta_r^t\n",
    "$$\n",
    "\n",
    "or \n",
    "\n",
    "$$\\mathbf{V}_{\\mu}^t = \\mathbf{e}_{\\text{argmax}(\\{\\mu_r\\})} - \\Theta^t$$\n",
    "\n",
    "where $\\mathbf{e}_{\\text{argmax}(\\{\\mu_r\\})}$ is the one-hot vector corresponding to the largest mean input, also corresponding to the $r$-th corner of the simplex $\\mathbb{S}_R$ on which the dynamics evolve.\n",
    "\n",
    "Thus, the mean-driven term pushes the system state to a corner of the simplex in one time-step, no matter what $\\Theta^t$ was."
   ]
  },
  {
   "cell_type": "markdown",
   "id": "ec972121-a574-4eec-af82-7790444428b7",
   "metadata": {},
   "source": [
    "The fluctuation-driven term, however, counteracts this force\n",
    "\n",
    "$$\\mathbf{V}_{\\sigma}^t = \\Theta^{t+1} - \\mathbf{e}_{\\text{argmax}(\\{\\mu_r\\})}$$"
   ]
  },
  {
   "cell_type": "code",
   "execution_count": null,
   "id": "3ae1a304-fac1-4ecb-84c9-d88137aea7d8",
   "metadata": {},
   "outputs": [],
   "source": []
  }
 ],
 "metadata": {
  "kernelspec": {
   "display_name": "Python 3 (ipykernel)",
   "language": "python",
   "name": "python3"
  },
  "language_info": {
   "codemirror_mode": {
    "name": "ipython",
    "version": 3
   },
   "file_extension": ".py",
   "mimetype": "text/x-python",
   "name": "python",
   "nbconvert_exporter": "python",
   "pygments_lexer": "ipython3",
   "version": "3.9.13"
  }
 },
 "nbformat": 4,
 "nbformat_minor": 5
}
