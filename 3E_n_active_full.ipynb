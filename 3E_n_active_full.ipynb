{
 "cells": [
  {
   "cell_type": "markdown",
   "id": "628bf9b1",
   "metadata": {},
   "source": [
    "# Full network estimations of number of active tunings vs D"
   ]
  },
  {
   "cell_type": "code",
   "execution_count": null,
   "id": "4dd8e9b0",
   "metadata": {},
   "outputs": [],
   "source": [
    "%matplotlib inline\n",
    "import matplotlib.pyplot as plt\n",
    "import numpy as np\n",
    "from scipy import stats\n",
    "import sys\n",
    "\n",
    "from disp import set_plot\n",
    "from ntwk import SoftmaxNtwk"
   ]
  },
  {
   "cell_type": "markdown",
   "id": "1cf5e670",
   "metadata": {},
   "source": [
    "# Full network simulations"
   ]
  },
  {
   "cell_type": "code",
   "execution_count": null,
   "id": "bdb545e9",
   "metadata": {},
   "outputs": [],
   "source": [
    "NTR = 1\n",
    "N = 1000\n",
    "# N = 3000\n",
    "\n",
    "# DS = np.arange(2, 10)\n",
    "DS = np.arange(2, 20)"
   ]
  },
  {
   "cell_type": "code",
   "execution_count": null,
   "id": "c0694578",
   "metadata": {},
   "outputs": [],
   "source": [
    "def get_active(ths, t_1):\n",
    "    ths_mn = ths[t_1:, :].mean(0)  # ppln time average\n",
    "    matv = ths_mn > np.max(ths_mn/2)  # mask over active labels\n",
    "    iatv = matv.nonzero()[0]  # idxs of active labels\n",
    "    return iatv"
   ]
  },
  {
   "cell_type": "markdown",
   "id": "9c39d910",
   "metadata": {},
   "source": [
    "## Mean-driven simulation"
   ]
  },
  {
   "cell_type": "markdown",
   "id": "53667eec",
   "metadata": {},
   "source": [
    "Here we use $\\mu_0 = 1.5$."
   ]
  },
  {
   "cell_type": "code",
   "execution_count": null,
   "id": "336ff3e6",
   "metadata": {},
   "outputs": [],
   "source": [
    "t_max = 100\n",
    "\n",
    "mu_0_md = 1.5\n",
    "mu_1_md = 0\n",
    "sgm_0_md = 1\n",
    "sgm_1_md = 1\n",
    "\n",
    "ths_alls = []\n",
    "\n",
    "for D in DS:\n",
    "\n",
    "    MU_J = np.nan*np.zeros((D, D))\n",
    "    MU_J[np.eye(D, dtype=bool)] = mu_0_md\n",
    "    MU_J[~np.eye(D, dtype=bool)] = mu_1_md\n",
    "\n",
    "    SGM_J = np.nan*np.zeros((D, D))\n",
    "    SGM_J[np.eye(D, dtype=bool)] = sgm_0_md\n",
    "    SGM_J[~np.eye(D, dtype=bool)] = sgm_1_md\n",
    "\n",
    "    J = np.nan*np.zeros((D, D, N, N))\n",
    "\n",
    "    for d_to in range(D):\n",
    "        for d_from in range(D):\n",
    "            J[d_to, d_from, :, :] = SGM_J[d_to, d_from]*np.sqrt(D/N)*np.random.randn(N, N) + MU_J[d_to, d_from]*D/N\n",
    "\n",
    "    ntwk = SoftmaxNtwk(J)\n",
    "    \n",
    "    sys.stdout.write('>')\n",
    "\n",
    "    ths_all = []\n",
    "    \n",
    "    for ctr in range(NTR):\n",
    "        x_0 = np.random.randn(N, D)\n",
    "        g = np.inf\n",
    "        \n",
    "        t, xs, ys = ntwk.run(g=g, t_max=t_max, x_0=x_0, progress=20)\n",
    "        \n",
    "        ths = ys.mean(axis=1)\n",
    "        \n",
    "        ths_all.append(ths)\n",
    "        \n",
    "    ths_alls.append(ths_all)"
   ]
  },
  {
   "cell_type": "code",
   "execution_count": null,
   "id": "70d87b67",
   "metadata": {},
   "outputs": [],
   "source": [
    "q_med_mds = []\n",
    "for ths_all in ths_alls:\n",
    "    q_med_md = np.median([len(get_active(ths, t_max//2)) for ths in ths_all])\n",
    "    q_med_mds.append(q_med_md)\n",
    "\n",
    "print('MED(Q) =', q_med_mds)"
   ]
  },
  {
   "cell_type": "code",
   "execution_count": null,
   "id": "f9e7fffb",
   "metadata": {},
   "outputs": [],
   "source": [
    "fig, axs = plt.subplots(3, 6, figsize=(16, 5), tight_layout=True, sharex=True)\n",
    "for ax, D, ths_all, q_med_md in zip(axs.flat, DS, ths_alls, q_med_mds):\n",
    "    ths = ths_all[0]\n",
    "    ax.plot(ths)\n",
    "    ax.set_ylim(bottom=0)\n",
    "    set_plot(ax, title=f'D = {D}, MED Q = {q_med_md}')"
   ]
  },
  {
   "cell_type": "code",
   "execution_count": null,
   "id": "c191951a",
   "metadata": {},
   "outputs": [],
   "source": [
    "fig, ax = plt.subplots(1, 1, figsize=(4, 3), tight_layout=True)\n",
    "ax.scatter(DS, q_med_mds, c='k')\n",
    "set_plot(ax, x_label='D', y_label='# active')"
   ]
  },
  {
   "cell_type": "markdown",
   "id": "76d69da0",
   "metadata": {},
   "source": [
    "## Fluctuation-driven simulation"
   ]
  },
  {
   "cell_type": "markdown",
   "id": "3bd89099",
   "metadata": {},
   "source": [
    "We use $\\mu_0 = \\mu_1 = 0$, $\\sigma_0 = 1$, $\\sigma_1 = 0$."
   ]
  },
  {
   "cell_type": "code",
   "execution_count": null,
   "id": "a7c114fa",
   "metadata": {},
   "outputs": [],
   "source": [
    "t_max = 150\n",
    "\n",
    "mu_0_fd = 0\n",
    "mu_1_fd = 0\n",
    "sgm_0_fd = 1\n",
    "sgm_1_fd = 0\n",
    "\n",
    "ths_alls = []\n",
    "    \n",
    "for D in DS:\n",
    "\n",
    "    MU_J = np.nan*np.zeros((D, D))\n",
    "    MU_J[np.eye(D, dtype=bool)] = mu_0_fd\n",
    "    MU_J[~np.eye(D, dtype=bool)] = mu_1_fd\n",
    "\n",
    "    SGM_J = np.nan*np.zeros((D, D))\n",
    "    SGM_J[np.eye(D, dtype=bool)] = sgm_0_fd\n",
    "    SGM_J[~np.eye(D, dtype=bool)] = sgm_1_fd\n",
    "\n",
    "    J = np.nan*np.zeros((D, D, N, N))\n",
    "\n",
    "    for d_to in range(D):\n",
    "        for d_from in range(D):\n",
    "            J[d_to, d_from, :, :] = SGM_J[d_to, d_from]*np.sqrt(D/N)*np.random.randn(N, N) + MU_J[d_to, d_from]*D/N\n",
    "\n",
    "    ntwk = SoftmaxNtwk(J)\n",
    "    \n",
    "    sys.stdout.write('>')\n",
    "\n",
    "    ths_all = []\n",
    "    \n",
    "    for ctr in range(NTR):\n",
    "        x_0 = np.random.randn(N, D)\n",
    "        g = np.inf\n",
    "        \n",
    "        t, xs, ys = ntwk.run(g=g, t_max=t_max, x_0=x_0, progress=20)\n",
    "        \n",
    "        ths = ys.mean(axis=1)\n",
    "\n",
    "        ths_all.append(ths)\n",
    "        \n",
    "    ths_alls.append(ths_all)"
   ]
  },
  {
   "cell_type": "code",
   "execution_count": null,
   "id": "25b845b4",
   "metadata": {},
   "outputs": [],
   "source": [
    "q_med_fds = []\n",
    "for ths_all in ths_alls:\n",
    "    q_med_fd = np.median([len(get_active(ths, t_max//2)) for ths in ths_all])\n",
    "    q_med_fds.append(q_med_fd)\n",
    "\n",
    "print('MED(Q) =', q_med_fds)"
   ]
  },
  {
   "cell_type": "code",
   "execution_count": null,
   "id": "ef716e5b",
   "metadata": {},
   "outputs": [],
   "source": [
    "fig, axs = plt.subplots(3, 6, figsize=(16, 5), tight_layout=True, sharex=True)\n",
    "for ax, D, ths_all, q_med_fd in zip(axs.flat, DS, ths_alls, q_med_fds):\n",
    "    ths = ths_all[0]\n",
    "    ax.plot(ths)\n",
    "    ax.set_ylim(bottom=0)\n",
    "    set_plot(ax, title=f'D = {D}, MED Q = {q_med_fd}')"
   ]
  },
  {
   "cell_type": "code",
   "execution_count": null,
   "id": "8e85295d",
   "metadata": {},
   "outputs": [],
   "source": [
    "fig, ax = plt.subplots(1, 1, figsize=(4, 3), tight_layout=True)\n",
    "ax.scatter(DS, q_med_fds, c='k')\n",
    "set_plot(ax, x_label='D', y_label='# active')"
   ]
  },
  {
   "cell_type": "markdown",
   "id": "45b4709f",
   "metadata": {},
   "source": [
    "# Save"
   ]
  },
  {
   "cell_type": "code",
   "execution_count": null,
   "id": "3ef3ce68",
   "metadata": {},
   "outputs": [],
   "source": [
    "np.save('data/multistability/n_active_full.npy', np.array([{\n",
    "    'DS': DS,\n",
    "    'N': N,\n",
    "    'q_med_mds': q_med_mds,\n",
    "    'q_med_fds': q_med_fds,\n",
    "}]))"
   ]
  }
 ],
 "metadata": {
  "kernelspec": {
   "display_name": "Python 3",
   "language": "python",
   "name": "python3"
  },
  "language_info": {
   "codemirror_mode": {
    "name": "ipython",
    "version": 3
   },
   "file_extension": ".py",
   "mimetype": "text/x-python",
   "name": "python",
   "nbconvert_exporter": "python",
   "pygments_lexer": "ipython3",
   "version": "3.7.10"
  }
 },
 "nbformat": 4,
 "nbformat_minor": 5
}
