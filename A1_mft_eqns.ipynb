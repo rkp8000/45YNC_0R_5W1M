{
 "cells": [
  {
   "cell_type": "markdown",
   "id": "2d3f6e8f-702c-4f3d-85ea-78fdd3545cf7",
   "metadata": {},
   "source": [
    "# Details re: computing the mean-field dynamics"
   ]
  },
  {
   "cell_type": "markdown",
   "id": "9a989b40-8c31-4f0a-b022-870e8657df20",
   "metadata": {
    "tags": []
   },
   "source": [
    "$$M\\Theta^{t+1} \\sim \\textrm{Multinomial}\\left(\\boldsymbol{\\alpha}(\\Theta^t), M\\right)$$\n",
    "\n",
    "$$\\alpha_r = \n",
    "\\int_{x}\\mathcal{N}\\left(x; \\mu_r, \\sigma_r\\right) \\prod_{r'\\neq r} \\Phi\\left(x; \\mu_{r'}, \\sigma_{r'}\\right)$$\n",
    "\n",
    "$$\\mu_r = R \\sum_{r'} \\mu_{rr'} \\Theta_{r'}^t + u_r^t$$\n",
    "\n",
    "$$\\sigma^2_r = R \\sum_{r'} \\gamma_{rr'}^2 \\Theta_{r'}^t + v_r^t$$"
   ]
  },
  {
   "cell_type": "markdown",
   "id": "8c80c7bd-db90-4948-88dd-68c4b86b8896",
   "metadata": {},
   "source": [
    "We have to specify a finite integration domain, which we want to make sure reasonably covers the nonzero section of the integrand."
   ]
  },
  {
   "cell_type": "markdown",
   "id": "9979dac3-9ad2-4485-8864-6856a5073f39",
   "metadata": {},
   "source": [
    "Each term in the integrand has a well-defined mean and variance.\n",
    "\n",
    "The edge cases will occur when some $\\Theta_r = 1$. Then (for no input) we have\n",
    "\n",
    "$$|\\mu_r|^{max} = R \\times \\text{max}\\left(\\mu_{rr'}^{max}, -\\mu_{rr'}^{min}\\right)$$\n",
    "\n",
    "$$(\\sigma_r^2)^{max} = R \\times (\\gamma_{rr'}^2)^{max}$$\n",
    "\n",
    "To keep bounds at least $a$ stdevs beyond the widest Gaussian, we use\n",
    "\n",
    "$$x_{max} = |\\mu_r|^{max} + a\\sqrt{(\\sigma_r^2)^{max}}$$\n",
    "\n",
    "$$x_{min} = -x_{max}$$"
   ]
  },
  {
   "cell_type": "code",
   "execution_count": 1,
   "id": "62433edf-2be1-41b5-a814-a3a5e2530d8a",
   "metadata": {},
   "outputs": [],
   "source": [
    "import matplotlib.pyplot as plt\n",
    "import numpy as np\n",
    "from scipy import stats\n",
    "import sys\n",
    "\n",
    "from disp import set_plot"
   ]
  },
  {
   "cell_type": "code",
   "execution_count": 4,
   "id": "d611f42c-b51d-4192-a104-a73f266d9689",
   "metadata": {},
   "outputs": [],
   "source": [
    "def get_x_bds(mus, gams, nsgm=3):\n",
    "    r = mus.shape[0]\n",
    "    mu_max = r*np.max([mus.max(), -mus.min()])\n",
    "    gam_max = r*gams.max()\n",
    "    \n",
    "    x_max = mu_max + nsgm*gam_max\n",
    "    \n",
    "    return -x_max, x_max"
   ]
  },
  {
   "cell_type": "code",
   "execution_count": 9,
   "id": "d2e7b511-8366-4017-8e53-236773eb02ec",
   "metadata": {},
   "outputs": [
    {
     "data": {
      "text/plain": [
       "(-512.0, 512.0)"
      ]
     },
     "execution_count": 9,
     "metadata": {},
     "output_type": "execute_result"
    }
   ],
   "source": [
    "mus = 2*np.eye(16)\n",
    "gams = np.ones((16, 16))\n",
    "gams[0, 0] = 10\n",
    "get_x_bds(mus, gams)"
   ]
  },
  {
   "cell_type": "code",
   "execution_count": 2,
   "id": "3af1aa34",
   "metadata": {},
   "outputs": [],
   "source": [
    "# numeric params for computing MF quantities\n",
    "DX = .001\n",
    "X_MIN = -100\n",
    "X_MAX = 100\n",
    "\n",
    "X = np.linspace(X_MIN, X_MAX, int((X_MAX-X_MIN)/DX)+1)\n",
    "\n",
    "def norm(x, mu, sgm):\n",
    "    return stats.norm.pdf(x, loc=mu, scale=sgm)\n",
    "\n",
    "def phi(x, mu, sgm):\n",
    "    return stats.norm.cdf(x, loc=mu, scale=sgm)\n",
    "\n",
    "def alph(th, u, v, R, mus, gams):\n",
    "    \"\"\"\n",
    "    th \\in [0, 1]^R\n",
    "    u \\in R^R\n",
    "    v \\in R_+^r\n",
    "    R scalar\n",
    "    mus \\in R^{RxR}\n",
    "    gams \\in R^{RxR}\n",
    "    \"\"\"\n",
    "    mu_r = R*(mus @ th) + u\n",
    "    sgm_r = np.sqrt(R*((gams**2)@th) + v)\n",
    "    \n",
    "    phis = np.array([phi(X, mu_r_, sgm_r_) for mu_r_, sgm_r_ in zip(mu_r, sgm_r)])\n",
    "    \n",
    "    mnot_r = ~np.eye(len(th), dtype=bool) # masks for selecting all but one r\n",
    "    \n",
    "    th_next = np.nan*np.zeros(R)\n",
    "    for r, (mu_r_, sgm_r_) in enumerate(zip(mu_r, sgm_r)):\n",
    "        \n",
    "        mask_r = mnot_r[r]\n",
    "        th_next[r] = np.sum(norm(X, mu_r_, sgm_r_) * np.prod(phis[mask_r, :], axis=0))*DX\n",
    "        \n",
    "    return th_next"
   ]
  }
 ],
 "metadata": {
  "kernelspec": {
   "display_name": "Python 3 (ipykernel)",
   "language": "python",
   "name": "python3"
  },
  "language_info": {
   "codemirror_mode": {
    "name": "ipython",
    "version": 3
   },
   "file_extension": ".py",
   "mimetype": "text/x-python",
   "name": "python",
   "nbconvert_exporter": "python",
   "pygments_lexer": "ipython3",
   "version": "3.9.13"
  }
 },
 "nbformat": 4,
 "nbformat_minor": 5
}
