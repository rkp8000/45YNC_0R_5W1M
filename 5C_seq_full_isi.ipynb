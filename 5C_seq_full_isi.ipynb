{
 "cells": [
  {
   "cell_type": "markdown",
   "id": "daef3e33",
   "metadata": {},
   "source": [
    "# Estimation of ISI CVs in sequence generating network"
   ]
  },
  {
   "cell_type": "code",
   "execution_count": 1,
   "id": "d9011c49",
   "metadata": {},
   "outputs": [],
   "source": [
    "import matplotlib.pyplot as plt\n",
    "import numpy as np\n",
    "from scipy import stats\n",
    "import sys\n",
    "\n",
    "from aux import get_c_mean_p, get_c_spd\n",
    "from disp import set_plot\n",
    "from ntwk import SoftmaxNtwk\n",
    "from time_stats import get_isi_cv_1, get_isi_cv_2"
   ]
  },
  {
   "cell_type": "code",
   "execution_count": 2,
   "id": "e0f411a5",
   "metadata": {},
   "outputs": [],
   "source": [
    "D = 16\n",
    "\n",
    "mself = np.eye(D, dtype=bool)\n",
    "mseq = np.diag(np.ones(D-1), -1).astype(bool)\n",
    "mseq[0, -1] = True  # periodic\n",
    "\n",
    "t_max = 1000\n",
    "t = np.arange(t_max)"
   ]
  },
  {
   "cell_type": "code",
   "execution_count": 3,
   "id": "b3bb0eb7",
   "metadata": {},
   "outputs": [],
   "source": [
    "N = 2000"
   ]
  },
  {
   "cell_type": "code",
   "execution_count": 4,
   "id": "382e84df",
   "metadata": {},
   "outputs": [],
   "source": [
    "A = np.arange(0, 2*np.pi, 2*np.pi/D)"
   ]
  },
  {
   "cell_type": "markdown",
   "id": "2e6b94bf",
   "metadata": {},
   "source": [
    "# Variance-driven sequence network (starting from variance self-coupled network)"
   ]
  },
  {
   "cell_type": "code",
   "execution_count": 5,
   "id": "5d94aa84",
   "metadata": {},
   "outputs": [
    {
     "name": "stdout",
     "output_type": "stream",
     "text": [
      "\n",
      ">.................................................\n",
      ">................................................."
     ]
    }
   ],
   "source": [
    "MU_J_SELF = 0\n",
    "MU_J_CROSS = 0\n",
    "MU_J_SEQ = 0\n",
    "\n",
    "SGM_J_SELF = 10\n",
    "SGM_J_CROSS = 1\n",
    "SGM_J_SEQS = [5, 10]\n",
    "\n",
    "ths_all = []\n",
    "xs_all = []\n",
    "ys_all = []\n",
    "\n",
    "for SGM_J_SEQ in SGM_J_SEQS:\n",
    "    sys.stdout.write('\\n>')\n",
    "\n",
    "    MU_J = np.nan*np.zeros((D, D))\n",
    "    SGM_J = np.nan*np.zeros((D, D))\n",
    "\n",
    "    MU_J[mself] = MU_J_SELF\n",
    "    MU_J[~mself] = MU_J_CROSS\n",
    "    MU_J[mseq] = MU_J_SEQ\n",
    "\n",
    "    SGM_J[mself] = SGM_J_SELF\n",
    "    SGM_J[~mself] = SGM_J_CROSS\n",
    "    SGM_J[mseq] = SGM_J_SEQ\n",
    "\n",
    "    J = np.nan*np.zeros((D, D, N, N))\n",
    "\n",
    "    for d_to in range(D):\n",
    "        for d_from in range(D):\n",
    "            J[d_to, d_from, :, :] = SGM_J[d_to, d_from]*np.sqrt(D/N)*np.random.randn(N, N) + MU_J[d_to, d_from]*D/N\n",
    "\n",
    "    ntwk = SoftmaxNtwk(J)\n",
    "    \n",
    "    x_0 = np.random.randn(N, D)\n",
    "    x_0[:, :10] *= 5\n",
    "    g = np.inf\n",
    "    t, xs, ys = ntwk.run(g=g, t_max=t_max, x_0=x_0, progress=20)\n",
    "\n",
    "    ths = ys.mean(axis=1)\n",
    "        \n",
    "    ths_all.append(ths)\n",
    "    xs_all.append(xs.copy())\n",
    "    ys_all.append(ys.copy())"
   ]
  },
  {
   "cell_type": "code",
   "execution_count": 6,
   "id": "d4b899cc",
   "metadata": {},
   "outputs": [],
   "source": [
    "# estimate speeds\n",
    "t_start = 100\n",
    "c_means = [get_c_mean_p(A, ths) for ths in ths_all]\n",
    "spds = [get_c_spd(c_mean, t_start)*D/(2*np.pi) for c_mean in c_means]"
   ]
  },
  {
   "cell_type": "code",
   "execution_count": 10,
   "id": "9b4f5069",
   "metadata": {},
   "outputs": [
    {
     "data": {
      "image/png": "[encoded data removed]",
      "text/plain": [
       "<Figure size 432x198 with 2 Axes>"
      ]
     },
     "metadata": {
      "needs_background": "light"
     },
     "output_type": "display_data"
    }
   ],
   "source": [
    "d_a = 0\n",
    "d_b = 1\n",
    "\n",
    "ys_0 = ys_all[0]\n",
    "ys_1 = ys_all[1]\n",
    "\n",
    "t_start = 100\n",
    "\n",
    "get_isi_cv = get_isi_cv_2\n",
    "\n",
    "isi_cv_a_0s = [get_isi_cv(ys_0[t_start:, i, d_a]) for i in range(N)]\n",
    "isi_cv_a_1s = [get_isi_cv(ys_1[t_start:, i, d_a]) for i in range(N)]\n",
    "\n",
    "isi_cv_b_0s = [get_isi_cv(ys_0[t_start:, i, d_b]) for i in range(N)]\n",
    "isi_cv_b_1s = [get_isi_cv(ys_1[t_start:, i, d_b]) for i in range(N)]\n",
    "\n",
    "fig, axs = plt.subplots(1, 2, figsize=(6, 2.75), tight_layout=True, sharey=True)\n",
    "\n",
    "bins = np.linspace(0, 2, 32)\n",
    "binc = .5*(bins[:-1] + bins[1:])\n",
    "\n",
    "cts_a = np.histogram(isi_cv_a_0s, bins=bins, density=True)[0]\n",
    "cts_b = np.histogram(isi_cv_b_0s, bins=bins, density=True)[0]\n",
    "\n",
    "axs[0].plot(binc, cts_a, c='k')\n",
    "axs[0].plot(binc, cts_b, c='k', ls='--')\n",
    "axs[0].legend([f'Pop. 1', f'Pop. 2'])\n",
    "\n",
    "set_plot(axs[0], x_label=f'ISI CV$_2$', y_label='Fraction of cells', title=f'Run 1 (speed={spds[0]:.2f})')\n",
    "\n",
    "cts_a = np.histogram(isi_cv_a_1s, bins=bins, density=True)[0]\n",
    "cts_b = np.histogram(isi_cv_b_1s, bins=bins, density=True)[0]\n",
    "\n",
    "axs[1].plot(binc, cts_a, c='k')\n",
    "axs[1].plot(binc, cts_b, c='k', ls='--')\n",
    "\n",
    "set_plot(axs[1], x_label=r'ISI CV$_2$', title=f'Run 2 (speed={spds[1]:.2f})')\n",
    "\n",
    "fig.savefig('figs/main/5_isi_seq.svg')"
   ]
  },
  {
   "cell_type": "code",
   "execution_count": null,
   "id": "5efe0684",
   "metadata": {},
   "outputs": [],
   "source": []
  }
 ],
 "metadata": {
  "kernelspec": {
   "display_name": "Python 3",
   "language": "python",
   "name": "python3"
  },
  "language_info": {
   "codemirror_mode": {
    "name": "ipython",
    "version": 3
   },
   "file_extension": ".py",
   "mimetype": "text/x-python",
   "name": "python",
   "nbconvert_exporter": "python",
   "pygments_lexer": "ipython3",
   "version": "3.7.10"
  }
 },
 "nbformat": 4,
 "nbformat_minor": 5
}
