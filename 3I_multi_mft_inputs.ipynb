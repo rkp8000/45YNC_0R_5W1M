{
 "cells": [
  {
   "cell_type": "markdown",
   "id": "8e083cc3",
   "metadata": {},
   "source": [
    "# MFT predictions of input distributions in fluctuation-driven multistability"
   ]
  },
  {
   "cell_type": "code",
   "execution_count": 1,
   "id": "d5d8ccfc",
   "metadata": {},
   "outputs": [],
   "source": [
    "%matplotlib inline\n",
    "import matplotlib.pyplot as plt\n",
    "import numpy as np\n",
    "from scipy import stats\n",
    "import sys\n",
    "\n",
    "from disp import set_plot"
   ]
  },
  {
   "cell_type": "code",
   "execution_count": 2,
   "id": "22dd9c7f",
   "metadata": {},
   "outputs": [],
   "source": [
    "# numeric params for computing MF quantities\n",
    "DX = .01\n",
    "X_MIN = -100\n",
    "X_MAX = 100\n",
    "\n",
    "X = np.linspace(X_MIN, X_MAX, int((X_MAX-X_MIN)/DX)+1)\n",
    "\n",
    "def norm(x, mu, sgm):\n",
    "    if sgm == 0:\n",
    "        temp = np.zeros(X.shape)\n",
    "        temp[np.argmin(np.abs(X))] = 1/DX\n",
    "        return temp\n",
    "    \n",
    "    return stats.norm.pdf(x, loc=mu, scale=sgm)\n",
    "\n",
    "def phi(x, mu, sgm):\n",
    "    if sgm == 0:\n",
    "        temp = (X >= 0).astype(float)\n",
    "        temp[X == 0] = .5\n",
    "        return temp\n",
    "    \n",
    "    return stats.norm.cdf(x, loc=mu, scale=sgm)\n",
    "\n",
    "def alph(th, u, v, D, mu_j, sgm_j, N=np.inf):\n",
    "    \"\"\"\n",
    "    th \\in [0, 1]^D\n",
    "    u \\in R^D\n",
    "    v \\in R_+^D\n",
    "    D scalar\n",
    "    mu_j \\in R^{DxD}\n",
    "    sgm_j \\in R^{DxD}\n",
    "    \"\"\"\n",
    "    mu_d = D*(mu_j @ th) + u\n",
    "    sgm_d = np.sqrt(D*((sgm_j**2)@th) + v)\n",
    "    \n",
    "    phis = np.array([phi(X, mu_d_, sgm_d_) for mu_d_, sgm_d_ in zip(mu_d, sgm_d)])\n",
    "    \n",
    "    mnot_d = ~np.eye(len(th), dtype=bool) # masks for selecting all but one d\n",
    "    \n",
    "    th_next = np.nan*np.zeros(D)\n",
    "    for d, (mu_d_, sgm_d_) in enumerate(zip(mu_d, sgm_d)):\n",
    "        \n",
    "        mask_d = mnot_d[d]\n",
    "        th_next[d] = min(np.sum(norm(X, mu_d_, sgm_d_) * np.prod(phis[mask_d, :], axis=0))*DX, 1)\n",
    "        \n",
    "    if np.isinf(N):\n",
    "        return th_next\n",
    "    else:\n",
    "        return np.random.multinomial(N, th_next)/N"
   ]
  },
  {
   "cell_type": "code",
   "execution_count": 3,
   "id": "804c0915",
   "metadata": {},
   "outputs": [],
   "source": [
    "def get_active(ths, t_1):\n",
    "    ths_mn = ths[t_1:, :].mean(0)  # ppln time average\n",
    "    matv = ths_mn > np.max(ths_mn/2)  # mask over active labels\n",
    "    iatv = matv.nonzero()[0]  # idxs of active labels\n",
    "    return iatv"
   ]
  },
  {
   "cell_type": "markdown",
   "id": "47bb38b8",
   "metadata": {},
   "source": [
    "## Fluctuation-driven simulation"
   ]
  },
  {
   "cell_type": "markdown",
   "id": "459d8e7c",
   "metadata": {},
   "source": [
    "Numerically estimate MFT steady state solution"
   ]
  },
  {
   "cell_type": "code",
   "execution_count": 5,
   "id": "f6be130e",
   "metadata": {},
   "outputs": [],
   "source": [
    "t_max = 200\n",
    "\n",
    "mu_0_fd = 0\n",
    "mu_1_fd = 0\n",
    "sgm_0_fd = 1\n",
    "sgm_1_fd = .05\n",
    "\n",
    "D = 16\n",
    "\n",
    "mu_j = np.nan*np.zeros((D, D))\n",
    "mu_j[np.eye(D, dtype=bool)] = mu_0_fd\n",
    "mu_j[~np.eye(D, dtype=bool)] = mu_1_fd\n",
    "\n",
    "sgm_j = np.nan*np.zeros((D, D))\n",
    "sgm_j[np.eye(D, dtype=bool)] = sgm_0_fd\n",
    "sgm_j[~np.eye(D, dtype=bool)] = sgm_1_fd\n",
    "\n",
    "th_0 = 1 + .01*np.random.randn(D)\n",
    "th_0 /= th_0.sum()\n",
    "\n",
    "ths = np.nan*np.zeros((t_max, D))\n",
    "ths[0, :] = th_0\n",
    "\n",
    "for t_ in range(1, t_max):\n",
    "    ths[t_, :] = alph(ths[t_-1, :], u=0, v=0, D=D, mu_j=mu_j, sgm_j=sgm_j, N=np.inf)"
   ]
  },
  {
   "cell_type": "code",
   "execution_count": 6,
   "id": "ed33f364",
   "metadata": {},
   "outputs": [
    {
     "name": "stdout",
     "output_type": "stream",
     "text": [
      "First active: 0\n",
      "First quiet: 1\n"
     ]
    }
   ],
   "source": [
    "iatv = get_active(ths, t_1=150)\n",
    "iqui = [d for d in range(D) if d not in iatv]\n",
    "\n",
    "print('First active:', iatv[0])\n",
    "print('First quiet:', iqui[0])"
   ]
  },
  {
   "cell_type": "code",
   "execution_count": 9,
   "id": "497d786b",
   "metadata": {},
   "outputs": [
    {
     "data": {
      "text/plain": [
       "array([0.10960119, 0.00194133, 0.00194133, 0.00194133, 0.10960119,\n",
       "       0.10960119, 0.00194133, 0.00194133, 0.10960119, 0.00194133,\n",
       "       0.00194133, 0.10960119, 0.10960119, 0.10960119, 0.10960119,\n",
       "       0.10960119])"
      ]
     },
     "execution_count": 9,
     "metadata": {},
     "output_type": "execute_result"
    }
   ],
   "source": [
    "ths[-1, :]"
   ]
  },
  {
   "cell_type": "markdown",
   "id": "b91e9d7d",
   "metadata": {},
   "source": [
    "Compute input distributions analytically from firing rates"
   ]
  },
  {
   "cell_type": "code",
   "execution_count": 15,
   "id": "d4119640",
   "metadata": {},
   "outputs": [],
   "source": [
    "mu_x = D*mu_j@ths[-1, :]\n",
    "sgm_x = np.sqrt(D*(sgm_j**2)@ths[-1, :])\n",
    "\n",
    "rx = np.linspace(-5, 5, 101)\n",
    "p_x_atv = stats.norm.pdf(rx, mu_x[iatv[0]], sgm_x[iatv[0]])\n",
    "p_x_qui = stats.norm.pdf(rx, mu_x[iqui[0]], sgm_x[iqui[0]])"
   ]
  },
  {
   "cell_type": "code",
   "execution_count": 16,
   "id": "f9ee3a35",
   "metadata": {},
   "outputs": [],
   "source": [
    "data = np.load('data/multistability/inputs.npy', allow_pickle=True)[0]\n",
    "\n",
    "binc = data['binc']\n",
    "cts_atv = data['cts_atv']\n",
    "cts_qui = data['cts_qui']"
   ]
  },
  {
   "cell_type": "markdown",
   "id": "900b27ef",
   "metadata": {},
   "source": [
    "Compare theory vs full simulations"
   ]
  },
  {
   "cell_type": "code",
   "execution_count": 23,
   "id": "6a20071e",
   "metadata": {},
   "outputs": [
    {
     "data": {
      "image/png": "[encoded data removed]",
      "text/plain": [
       "<Figure size 198x180 with 1 Axes>"
      ]
     },
     "metadata": {
      "needs_background": "light"
     },
     "output_type": "display_data"
    }
   ],
   "source": [
    "fig, ax = plt.subplots(1, 1, figsize=(2.75, 2.5), tight_layout=True)\n",
    "ax.plot(rx, p_x_atv, c='k')\n",
    "ax.plot(rx, p_x_qui, c='b', ls='--')\n",
    "ax.scatter(binc, cts_atv, marker='s', facecolors='none', edgecolors='k')\n",
    "ax.scatter(binc, cts_qui, marker='s', facecolors='none', edgecolors='b')\n",
    "\n",
    "set_plot(ax, x_label='Input (x)', y_label='Prob. density', font_size=12)\n",
    "\n",
    "fig.savefig('figs/main/4_multi_inputs.svg')"
   ]
  },
  {
   "cell_type": "code",
   "execution_count": null,
   "id": "947a0437",
   "metadata": {},
   "outputs": [],
   "source": []
  }
 ],
 "metadata": {
  "kernelspec": {
   "display_name": "Python 3",
   "language": "python",
   "name": "python3"
  },
  "language_info": {
   "codemirror_mode": {
    "name": "ipython",
    "version": 3
   },
   "file_extension": ".py",
   "mimetype": "text/x-python",
   "name": "python",
   "nbconvert_exporter": "python",
   "pygments_lexer": "ipython3",
   "version": "3.7.10"
  }
 },
 "nbformat": 4,
 "nbformat_minor": 5
}
